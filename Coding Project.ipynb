{
 "cells": [
  {
   "cell_type": "markdown",
   "id": "34d98cab-417b-4858-beb1-ce112c61e7f7",
   "metadata": {},
   "source": [
    "## Coding project"
   ]
  },
  {
   "cell_type": "code",
   "execution_count": 1,
   "id": "c8586d19-d32e-4d62-ac93-35acd6bce499",
   "metadata": {},
   "outputs": [
    {
     "name": "stderr",
     "output_type": "stream",
     "text": [
      "Installing package into ‘/usr/local/spark-3.5.3-bin-hadoop3/R/lib’\n",
      "(as ‘lib’ is unspecified)\n",
      "\n",
      "Installing package into ‘/usr/local/spark-3.5.3-bin-hadoop3/R/lib’\n",
      "(as ‘lib’ is unspecified)\n",
      "\n",
      "Installing package into ‘/usr/local/spark-3.5.3-bin-hadoop3/R/lib’\n",
      "(as ‘lib’ is unspecified)\n",
      "\n"
     ]
    }
   ],
   "source": [
    "install.packages('dplyr')\n",
    "install.packages('ggplot2')\n",
    "install.packages('dslabs')"
   ]
  },
  {
   "cell_type": "code",
   "execution_count": 2,
   "id": "aa7f11bb-61e4-45df-a3c5-576a45f0bbac",
   "metadata": {},
   "outputs": [
    {
     "name": "stderr",
     "output_type": "stream",
     "text": [
      "\n",
      "Attaching package: ‘dplyr’\n",
      "\n",
      "\n",
      "The following objects are masked from ‘package:stats’:\n",
      "\n",
      "    filter, lag\n",
      "\n",
      "\n",
      "The following objects are masked from ‘package:base’:\n",
      "\n",
      "    intersect, setdiff, setequal, union\n",
      "\n",
      "\n"
     ]
    }
   ],
   "source": [
    "library(dslabs)\n",
    "library(ggplot2)\n",
    "library(dplyr)"
   ]
  },
  {
   "cell_type": "code",
   "execution_count": 3,
   "id": "ee0e25d5-2e6a-461c-a20a-0a5c4f363169",
   "metadata": {},
   "outputs": [],
   "source": [
    "# making a variable of each table for denmark\n",
    "D052020 <- read.csv(\"/work/CulturalDataScience/DanmarkData/Danmark Top Songs - 2020-W05.csv\")\n",
    "D222020 <- read.csv(\"/work/CulturalDataScience/DanmarkData/Danmark Top Songs - 2020-W22.csv\")\n",
    "D402020 <- read.csv(\"/work/CulturalDataScience/DanmarkData/Danmark Top Songs - 2020-W40.csv\")\n",
    "D042021 <- read.csv(\"/work/CulturalDataScience/DanmarkData/Danmark Top Songs - 2021-W04.csv\")\n",
    "D212021 <- read.csv(\"/work/CulturalDataScience/DanmarkData/Danmark Top Songs - 2021-W21.csv\")\n",
    "D392021 <- read.csv(\"/work/CulturalDataScience/DanmarkData/Danmark Top Songs - 2021-W39.csv\")\n",
    "D042022 <- read.csv(\"/work/CulturalDataScience/DanmarkData/Danmark Top Songs - 2022-W04.csv\")\n",
    "D212022 <- read.csv(\"/work/CulturalDataScience/DanmarkData/Danmark Top Songs - 2022-W21.csv\")\n",
    "D392022 <- read.csv(\"/work/CulturalDataScience/DanmarkData/Danmark Top Songs - 2022-W39.csv\")\n",
    "D042023 <- read.csv(\"/work/CulturalDataScience/DanmarkData/Danmark Top Songs - 2023-W04.csv\")\n",
    "D222023 <- read.csv(\"/work/CulturalDataScience/DanmarkData/Danmark Top Songs - 2023-W22.csv\")\n",
    "D392023 <- read.csv(\"/work/CulturalDataScience/DanmarkData/Danmark Top Songs - 2023-W39.csv\")\n",
    "D052024 <- read.csv(\"/work/CulturalDataScience/DanmarkData/Danmark Top Songs - 2024-W05.csv\")\n",
    "D222024 <- read.csv(\"/work/CulturalDataScience/DanmarkData/Danmark Top Songs - 2024-W22.csv\")\n",
    "D392024 <- read.csv(\"/work/CulturalDataScience/DanmarkData/Danmark Top Songs - 2024-W39.csv\")"
   ]
  },
  {
   "cell_type": "code",
   "execution_count": 4,
   "id": "5c828e7d-5dda-4827-9ebc-69568c171ddb",
   "metadata": {},
   "outputs": [],
   "source": [
    "# adding column with weekname\n",
    "D052020 <- data.frame(append(D052020, c(Time='05-2020'), after=1))\n",
    "D222020 <- data.frame(append(D222020, c(Time='22-2020'), after=1))\n",
    "D402020 <- data.frame(append(D402020, c(Time='40-2020'), after=1))\n",
    "D042021 <- data.frame(append(D042021, c(Time='04-2021'), after=1))\n",
    "D212021 <- data.frame(append(D212021, c(Time='21-2021'), after=1))\n",
    "D392021 <- data.frame(append(D392021, c(Time='39-2021'), after=1))\n",
    "D042022 <- data.frame(append(D042022, c(Time='04-2022'), after=1))\n",
    "D212022 <- data.frame(append(D212022, c(Time='21-2022'), after=1))\n",
    "D392022 <- data.frame(append(D392022, c(Time='39-2022'), after=1))\n",
    "D042023 <- data.frame(append(D042023, c(Time='04-2023'), after=1))\n",
    "D222023 <- data.frame(append(D222023, c(Time='22-2023'), after=1))\n",
    "D392023 <- data.frame(append(D392023, c(Time='39-2023'), after=1))\n",
    "D052024 <- data.frame(append(D052024, c(Time='05-2024'), after=1))\n",
    "D222024 <- data.frame(append(D222024, c(Time='22-2024'), after=1))\n",
    "D392024 <- data.frame(append(D392024, c(Time='39-2024'), after=1))"
   ]
  },
  {
   "cell_type": "code",
   "execution_count": 9,
   "id": "34655adc-557f-417b-a377-dbcb53ac7221",
   "metadata": {},
   "outputs": [],
   "source": [
    "#Bind all the dataframes into one dataframe\n",
    "Danmark <- rbind(D052020, D222020, D402020, D042021,D212021,D392021,D042022,D212022,D392022,D042023,D222023,D392023,D052024,D222024,D392024)"
   ]
  },
  {
   "cell_type": "code",
   "execution_count": 18,
   "id": "637b41b7-c056-45dd-b676-b8ba4b2b4400",
   "metadata": {},
   "outputs": [
    {
     "name": "stdout",
     "output_type": "stream",
     "text": [
      "'data.frame':\t1501 obs. of  13 variables:\n",
      " $ Position                        : chr  \"1\" \"2\" \"3\" \"4\" ...\n",
      " $ Time                            : chr  \"05-2020\" \"05-2020\" \"05-2020\" \"05-2020\" ...\n",
      " $ Up.or.Down                      : chr  \"up\" \"up\" \"up\" \"up\" ...\n",
      " $ Artist                          : chr  \"The Weeknd\" \"Billie Eilish\" \"Tones and I\" \"Roddy Ricch\" ...\n",
      " $ Song                            : chr  \"Blinding Lights\" \"everything i wanted\" \"Dance Monkey\" \"The Box\" ...\n",
      " $ Last.Week                       : chr  \"1\" \"7\" \"3\" \"4\" ...\n",
      " $ Peak.Position                   : int  1 2 1 4 2 3 2 1 2 8 ...\n",
      " $ Weeks.on.Chart                  : int  10 12 13 5 3 13 13 4 5 7 ...\n",
      " $ Global.Chart.Debut              : int  94 53 6 91 84 5 19 86 86 NA ...\n",
      " $ Week.GC                         : chr  \"2019-12-01\" \"2019-11-17\" \"2019-10-06\" \"2019-12-08\" ...\n",
      " $ Highest.Position.in.Global.Chart: int  1 3 1 2 12 5 3 6 3 NA ...\n",
      " $ Week.HP                         : chr  \"2020-03-01\" \"2019-11-24\" \"2019-11-10\" \"2020-02-16\" ...\n",
      " $ Gender                          : int  2 1 1 2 2 1 1 2 2 2 ...\n"
     ]
    }
   ],
   "source": [
    "#Checking column names\n",
    "str(Danmark)"
   ]
  },
  {
   "cell_type": "code",
   "execution_count": 21,
   "id": "429cb812-f1e9-4da9-9925-c80f54dd1e43",
   "metadata": {},
   "outputs": [
    {
     "data": {
      "text/html": [
       "<table class=\"dataframe\">\n",
       "<caption>A data.frame: 6 × 3</caption>\n",
       "<thead>\n",
       "\t<tr><th></th><th scope=col>Position</th><th scope=col>Time</th><th scope=col>Gender</th></tr>\n",
       "\t<tr><th></th><th scope=col>&lt;chr&gt;</th><th scope=col>&lt;chr&gt;</th><th scope=col>&lt;int&gt;</th></tr>\n",
       "</thead>\n",
       "<tbody>\n",
       "\t<tr><th scope=row>1</th><td>1</td><td>05-2020</td><td>2</td></tr>\n",
       "\t<tr><th scope=row>2</th><td>2</td><td>05-2020</td><td>1</td></tr>\n",
       "\t<tr><th scope=row>3</th><td>3</td><td>05-2020</td><td>1</td></tr>\n",
       "\t<tr><th scope=row>4</th><td>4</td><td>05-2020</td><td>2</td></tr>\n",
       "\t<tr><th scope=row>5</th><td>5</td><td>05-2020</td><td>2</td></tr>\n",
       "\t<tr><th scope=row>6</th><td>6</td><td>05-2020</td><td>1</td></tr>\n",
       "</tbody>\n",
       "</table>\n"
      ],
      "text/latex": [
       "A data.frame: 6 × 3\n",
       "\\begin{tabular}{r|lll}\n",
       "  & Position & Time & Gender\\\\\n",
       "  & <chr> & <chr> & <int>\\\\\n",
       "\\hline\n",
       "\t1 & 1 & 05-2020 & 2\\\\\n",
       "\t2 & 2 & 05-2020 & 1\\\\\n",
       "\t3 & 3 & 05-2020 & 1\\\\\n",
       "\t4 & 4 & 05-2020 & 2\\\\\n",
       "\t5 & 5 & 05-2020 & 2\\\\\n",
       "\t6 & 6 & 05-2020 & 1\\\\\n",
       "\\end{tabular}\n"
      ],
      "text/markdown": [
       "\n",
       "A data.frame: 6 × 3\n",
       "\n",
       "| <!--/--> | Position &lt;chr&gt; | Time &lt;chr&gt; | Gender &lt;int&gt; |\n",
       "|---|---|---|---|\n",
       "| 1 | 1 | 05-2020 | 2 |\n",
       "| 2 | 2 | 05-2020 | 1 |\n",
       "| 3 | 3 | 05-2020 | 1 |\n",
       "| 4 | 4 | 05-2020 | 2 |\n",
       "| 5 | 5 | 05-2020 | 2 |\n",
       "| 6 | 6 | 05-2020 | 1 |\n",
       "\n"
      ],
      "text/plain": [
       "  Position Time    Gender\n",
       "1 1        05-2020 2     \n",
       "2 2        05-2020 1     \n",
       "3 3        05-2020 1     \n",
       "4 4        05-2020 2     \n",
       "5 5        05-2020 2     \n",
       "6 6        05-2020 1     "
      ]
     },
     "metadata": {},
     "output_type": "display_data"
    }
   ],
   "source": [
    "#Removing unwanted columns\n",
    "Danmark2 = select(Danmark, -Up.or.Down:-Week.HP)\n",
    "head(Danmark2)"
   ]
  },
  {
   "cell_type": "code",
   "execution_count": null,
   "id": "da2bc819-aaad-4ae4-b882-c7de49d7c412",
   "metadata": {},
   "outputs": [],
   "source": []
  },
  {
   "cell_type": "code",
   "execution_count": 6,
   "id": "9a22ff41-14de-43ea-8e12-4b0d85d49733",
   "metadata": {},
   "outputs": [],
   "source": [
    "# making a variable of each table for norway\n",
    "N052020 <- read.csv(\"/work/CulturalDataScience/Norge Data/Norge Top Songs - 2020-W05.csv\")\n",
    "N222020 <- read.csv(\"/work/CulturalDataScience/Norge Data/Norge Top Songs - 2020-W22.csv\")\n",
    "N402020 <- read.csv(\"/work/CulturalDataScience/Norge Data/Norge Top Songs - 2020-W40.csv\")\n",
    "N042021 <- read.csv(\"/work/CulturalDataScience/Norge Data/Norge Top Songs - 2021-W04.csv\")\n",
    "N212021 <- read.csv(\"/work/CulturalDataScience/Norge Data/Norge Top Songs - 2021-W21.csv\")\n",
    "N392021 <- read.csv(\"/work/CulturalDataScience/Norge Data/Norge Top Songs - 2021-W39.csv\")\n",
    "N042022 <- read.csv(\"/work/CulturalDataScience/Norge Data/Norge Top Songs - 2022-W04.csv\")\n",
    "N212022 <- read.csv(\"/work/CulturalDataScience/Norge Data/Norge Top Songs - 2022-W21.csv\")\n",
    "N392022 <- read.csv(\"/work/CulturalDataScience/Norge Data/Norge Top Songs - 2022-W39.csv\")\n",
    "N042023 <- read.csv(\"/work/CulturalDataScience/Norge Data/Norge Top Songs - 2023-W04.csv\")\n",
    "N222023 <- read.csv(\"/work/CulturalDataScience/Norge Data/Norge Top Songs - 2023-W22.csv\")\n",
    "N392023 <- read.csv(\"/work/CulturalDataScience/Norge Data/Norge Top Songs - 2023-W39.csv\")\n",
    "N052024 <- read.csv(\"/work/CulturalDataScience/Norge Data/Norge Top Songs - 2024-W05.csv\")\n",
    "N222024 <- read.csv(\"/work/CulturalDataScience/Norge Data/Norge Top Songs - 2024-W22.csv\")\n",
    "N392024 <- read.csv(\"/work/CulturalDataScience/Norge Data/Norge Top Songs - 2024-W39.csv\")"
   ]
  },
  {
   "cell_type": "code",
   "execution_count": 7,
   "id": "c599b58b-d204-4b21-8f69-c968ec4a8e2a",
   "metadata": {},
   "outputs": [],
   "source": [
    "# add column with week name\n",
    "N052020 <- data.frame(append(N052020, c(Time='05-2020'), after=1))\n",
    "N222020 <- data.frame(append(N222020, c(Time='22-2020'), after=1))\n",
    "N402020 <- data.frame(append(N402020, c(Time='40-2020'), after=1))\n",
    "N042021 <- data.frame(append(N042021, c(Time='04-2021'), after=1))\n",
    "N212021 <- data.frame(append(N212021, c(Time='21-2021'), after=1))\n",
    "N392021 <- data.frame(append(N392021, c(Time='39-2021'), after=1))\n",
    "N042022 <- data.frame(append(N042022, c(Time='04-2022'), after=1))\n",
    "N212022 <- data.frame(append(N212022, c(Time='21-2022'), after=1))\n",
    "N392022 <- data.frame(append(N392022, c(Time='39-2022'), after=1))\n",
    "N042023 <- data.frame(append(N042023, c(Time='04-2023'), after=1))\n",
    "N222023 <- data.frame(append(N222023, c(Time='22-2023'), after=1))\n",
    "N392023 <- data.frame(append(N392023, c(Time='39-2023'), after=1))\n",
    "N052024 <- data.frame(append(N052024, c(Time='05-2024'), after=1))\n",
    "N222024 <- data.frame(append(N222024, c(Time='22-2024'), after=1))\n",
    "N392024 <- data.frame(append(N392024, c(Time='39-2024'), after=1))"
   ]
  },
  {
   "cell_type": "code",
   "execution_count": 22,
   "id": "ee792f2a-15ab-4a1e-bc5a-a58aa5cefdc9",
   "metadata": {},
   "outputs": [],
   "source": [
    "#Binding dataframes together\n",
    "\n",
    "Norge <- rbind(N052020, N222020, N402020, N042021,N212021,N392021,N042022,N212022,N392022,N042023,N222023,N392023,N052024,N222024,N392024)"
   ]
  },
  {
   "cell_type": "code",
   "execution_count": 23,
   "id": "20dedb20-694d-4986-ad80-81832ec701cb",
   "metadata": {},
   "outputs": [
    {
     "name": "stdout",
     "output_type": "stream",
     "text": [
      "'data.frame':\t1501 obs. of  13 variables:\n",
      " $ Position                        : int  1 2 3 4 5 6 7 8 9 10 ...\n",
      " $ Time                            : chr  \"05-2020\" \"05-2020\" \"05-2020\" \"05-2020\" ...\n",
      " $ Up.or.Down                      : chr  \"up\" \"up\" \"up\" \"up\" ...\n",
      " $ Artist                          : chr  \"The Weeknd\" \"Herman Flesvig\" \"Eminem\" \"Billie Eilish\" ...\n",
      " $ Song                            : chr  \"Blinding Lights\" \"Haugenstua\" \"Godzilla (feat. Juice WRLD)\" \"everything i wanted\" ...\n",
      " $ Last.Week                       : chr  \"1\" \"2\" \"3\" \"6\" ...\n",
      " $ Peak.Position                   : chr  \"1\" \"1\" \"3\" \"1\" ...\n",
      " $ Weeks.on.Chart                  : int  10 3 3 12 13 8 13 13 13 4 ...\n",
      " $ Global.Chart.Debut              : int  94 NA 84 53 6 91 19 5 4 86 ...\n",
      " $ Week.GC                         : chr  \"2019-12-01\" \"\" \"2020-01-19\" \"2019-11-17\" ...\n",
      " $ Highest.Position.in.Global.Chart: int  1 NA 12 3 1 2 3 5 4 6 ...\n",
      " $ Week.HP                         : chr  \"2020-03-01\" \"\" \"2020-01-26\" \"2019-11-24\" ...\n",
      " $ Gender                          : int  2 2 2 1 1 2 1 1 2 2 ...\n"
     ]
    }
   ],
   "source": [
    "#Checking\n",
    "str(Norge)"
   ]
  },
  {
   "cell_type": "code",
   "execution_count": 24,
   "id": "9dda0bae-88e9-496b-b18b-dce2cdbb8bb9",
   "metadata": {},
   "outputs": [
    {
     "data": {
      "text/html": [
       "<table class=\"dataframe\">\n",
       "<caption>A data.frame: 6 × 3</caption>\n",
       "<thead>\n",
       "\t<tr><th></th><th scope=col>Position</th><th scope=col>Time</th><th scope=col>Gender</th></tr>\n",
       "\t<tr><th></th><th scope=col>&lt;int&gt;</th><th scope=col>&lt;chr&gt;</th><th scope=col>&lt;int&gt;</th></tr>\n",
       "</thead>\n",
       "<tbody>\n",
       "\t<tr><th scope=row>1</th><td>1</td><td>05-2020</td><td>2</td></tr>\n",
       "\t<tr><th scope=row>2</th><td>2</td><td>05-2020</td><td>2</td></tr>\n",
       "\t<tr><th scope=row>3</th><td>3</td><td>05-2020</td><td>2</td></tr>\n",
       "\t<tr><th scope=row>4</th><td>4</td><td>05-2020</td><td>1</td></tr>\n",
       "\t<tr><th scope=row>5</th><td>5</td><td>05-2020</td><td>1</td></tr>\n",
       "\t<tr><th scope=row>6</th><td>6</td><td>05-2020</td><td>2</td></tr>\n",
       "</tbody>\n",
       "</table>\n"
      ],
      "text/latex": [
       "A data.frame: 6 × 3\n",
       "\\begin{tabular}{r|lll}\n",
       "  & Position & Time & Gender\\\\\n",
       "  & <int> & <chr> & <int>\\\\\n",
       "\\hline\n",
       "\t1 & 1 & 05-2020 & 2\\\\\n",
       "\t2 & 2 & 05-2020 & 2\\\\\n",
       "\t3 & 3 & 05-2020 & 2\\\\\n",
       "\t4 & 4 & 05-2020 & 1\\\\\n",
       "\t5 & 5 & 05-2020 & 1\\\\\n",
       "\t6 & 6 & 05-2020 & 2\\\\\n",
       "\\end{tabular}\n"
      ],
      "text/markdown": [
       "\n",
       "A data.frame: 6 × 3\n",
       "\n",
       "| <!--/--> | Position &lt;int&gt; | Time &lt;chr&gt; | Gender &lt;int&gt; |\n",
       "|---|---|---|---|\n",
       "| 1 | 1 | 05-2020 | 2 |\n",
       "| 2 | 2 | 05-2020 | 2 |\n",
       "| 3 | 3 | 05-2020 | 2 |\n",
       "| 4 | 4 | 05-2020 | 1 |\n",
       "| 5 | 5 | 05-2020 | 1 |\n",
       "| 6 | 6 | 05-2020 | 2 |\n",
       "\n"
      ],
      "text/plain": [
       "  Position Time    Gender\n",
       "1 1        05-2020 2     \n",
       "2 2        05-2020 2     \n",
       "3 3        05-2020 2     \n",
       "4 4        05-2020 1     \n",
       "5 5        05-2020 1     \n",
       "6 6        05-2020 2     "
      ]
     },
     "metadata": {},
     "output_type": "display_data"
    }
   ],
   "source": [
    "#Removing unwanted columns\n",
    "Norge2 = select(Norge, -Up.or.Down:-Week.HP)\n",
    "head(Norge2)"
   ]
  },
  {
   "cell_type": "code",
   "execution_count": null,
   "id": "c17194ce-5a42-4c65-9ea9-e32f580a6a09",
   "metadata": {},
   "outputs": [],
   "source": []
  }
 ],
 "metadata": {
  "kernelspec": {
   "display_name": "R",
   "language": "R",
   "name": "ir"
  },
  "language_info": {
   "codemirror_mode": "r",
   "file_extension": ".r",
   "mimetype": "text/x-r-source",
   "name": "R",
   "pygments_lexer": "r",
   "version": "4.4.1"
  }
 },
 "nbformat": 4,
 "nbformat_minor": 5
}
