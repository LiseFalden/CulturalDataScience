{
 "cells": [
  {
   "cell_type": "markdown",
   "id": "34d98cab-417b-4858-beb1-ce112c61e7f7",
   "metadata": {},
   "source": [
    "## Coding project"
   ]
  },
  {
   "cell_type": "code",
   "execution_count": 1,
   "id": "c8586d19-d32e-4d62-ac93-35acd6bce499",
   "metadata": {},
   "outputs": [
    {
     "name": "stderr",
     "output_type": "stream",
     "text": [
      "Installing package into ‘/usr/local/spark-3.5.3-bin-hadoop3/R/lib’\n",
      "(as ‘lib’ is unspecified)\n",
      "\n",
      "Installing package into ‘/usr/local/spark-3.5.3-bin-hadoop3/R/lib’\n",
      "(as ‘lib’ is unspecified)\n",
      "\n",
      "Installing package into ‘/usr/local/spark-3.5.3-bin-hadoop3/R/lib’\n",
      "(as ‘lib’ is unspecified)\n",
      "\n"
     ]
    }
   ],
   "source": [
    "install.packages('dplyr')\n",
    "install.packages('ggplot2')\n",
    "install.packages('dslabs')"
   ]
  },
  {
   "cell_type": "code",
   "execution_count": 2,
   "id": "aa7f11bb-61e4-45df-a3c5-576a45f0bbac",
   "metadata": {},
   "outputs": [
    {
     "name": "stderr",
     "output_type": "stream",
     "text": [
      "\n",
      "Attaching package: ‘dplyr’\n",
      "\n",
      "\n",
      "The following objects are masked from ‘package:stats’:\n",
      "\n",
      "    filter, lag\n",
      "\n",
      "\n",
      "The following objects are masked from ‘package:base’:\n",
      "\n",
      "    intersect, setdiff, setequal, union\n",
      "\n",
      "\n"
     ]
    }
   ],
   "source": [
    "library(dslabs)\n",
    "library(ggplot2)\n",
    "library(dplyr)"
   ]
  },
  {
   "cell_type": "code",
   "execution_count": 3,
   "id": "ee0e25d5-2e6a-461c-a20a-0a5c4f363169",
   "metadata": {},
   "outputs": [],
   "source": [
    "# making a variable of each table for denmark\n",
    "D052020 <- read.csv(\"/work/CulturalDataScience/DanmarkData/Danmark Top Songs - 2020-W05.csv\")\n",
    "D222020 <- read.csv(\"/work/CulturalDataScience/DanmarkData/Danmark Top Songs - 2020-W22.csv\")\n",
    "D402020 <- read.csv(\"/work/CulturalDataScience/DanmarkData/Danmark Top Songs - 2020-W40.csv\")\n",
    "D042021 <- read.csv(\"/work/CulturalDataScience/DanmarkData/Danmark Top Songs - 2021-W04.csv\")\n",
    "D212021 <- read.csv(\"/work/CulturalDataScience/DanmarkData/Danmark Top Songs - 2021-W21.csv\")\n",
    "D392021 <- read.csv(\"/work/CulturalDataScience/DanmarkData/Danmark Top Songs - 2021-W39.csv\")\n",
    "D042022 <- read.csv(\"/work/CulturalDataScience/DanmarkData/Danmark Top Songs - 2022-W04.csv\")\n",
    "D212022 <- read.csv(\"/work/CulturalDataScience/DanmarkData/Danmark Top Songs - 2022-W21.csv\")\n",
    "D392022 <- read.csv(\"/work/CulturalDataScience/DanmarkData/Danmark Top Songs - 2022-W39.csv\")\n",
    "D042023 <- read.csv(\"/work/CulturalDataScience/DanmarkData/Danmark Top Songs - 2023-W04.csv\")\n",
    "D222023 <- read.csv(\"/work/CulturalDataScience/DanmarkData/Danmark Top Songs - 2023-W22.csv\")\n",
    "D392023 <- read.csv(\"/work/CulturalDataScience/DanmarkData/Danmark Top Songs - 2023-W39.csv\")\n",
    "D052024 <- read.csv(\"/work/CulturalDataScience/DanmarkData/Danmark Top Songs - 2024-W05.csv\")\n",
    "D222024 <- read.csv(\"/work/CulturalDataScience/DanmarkData/Danmark Top Songs - 2024-W22.csv\")\n",
    "D392024 <- read.csv(\"/work/CulturalDataScience/DanmarkData/Danmark Top Songs - 2024-W39.csv\")"
   ]
  },
  {
   "cell_type": "code",
   "execution_count": 4,
   "id": "5c828e7d-5dda-4827-9ebc-69568c171ddb",
   "metadata": {},
   "outputs": [],
   "source": [
    "# adding column with weekname and year\n",
    "D052020 <- data.frame(append(D052020, c(Week='052020', Year='2020'), after=1))\n",
    "D222020 <- data.frame(append(D222020, c(Week='222020', Year='2020'), after=1))\n",
    "D402020 <- data.frame(append(D402020, c(Week='402020', Year='2020'), after=1))\n",
    "D042021 <- data.frame(append(D042021, c(Week='042021', Year='2021'), after=1))\n",
    "D212021 <- data.frame(append(D212021, c(Week='212021', Year='2021'), after=1))\n",
    "D392021 <- data.frame(append(D392021, c(Week='392021', Year='2021'), after=1))\n",
    "D042022 <- data.frame(append(D042022, c(Week='042022', Year='2022'), after=1))\n",
    "D212022 <- data.frame(append(D212022, c(Week='212022', Year='2022'), after=1))\n",
    "D392022 <- data.frame(append(D392022, c(Week='392022', Year='2022'), after=1))\n",
    "D042023 <- data.frame(append(D042023, c(Week='042023', Year='2023'), after=1))\n",
    "D222023 <- data.frame(append(D222023, c(Week='222023', Year='2023'), after=1))\n",
    "D392023 <- data.frame(append(D392023, c(Week='392023', Year='2023'), after=1))\n",
    "D052024 <- data.frame(append(D052024, c(Week='052024', Year='2024'), after=1))\n",
    "D222024 <- data.frame(append(D222024, c(Week='222024', Year='2024'), after=1))\n",
    "D392024 <- data.frame(append(D392024, c(Week='392024', Year='2024'), after=1))"
   ]
  },
  {
   "cell_type": "code",
   "execution_count": 5,
   "id": "34655adc-557f-417b-a377-dbcb53ac7221",
   "metadata": {},
   "outputs": [],
   "source": [
    "#Bind all the dataframes into one dataframe\n",
    "Danmark <- rbind(D052020, D222020, D402020, D042021,D212021,D392021,D042022,D212022,D392022,D042023,D222023,D392023,D052024,D222024,D392024)"
   ]
  },
  {
   "cell_type": "code",
   "execution_count": 6,
   "id": "637b41b7-c056-45dd-b676-b8ba4b2b4400",
   "metadata": {},
   "outputs": [
    {
     "name": "stdout",
     "output_type": "stream",
     "text": [
      "'data.frame':\t1501 obs. of  14 variables:\n",
      " $ Position                        : chr  \"1\" \"2\" \"3\" \"4\" ...\n",
      " $ Week                            : chr  \"052020\" \"052020\" \"052020\" \"052020\" ...\n",
      " $ Year                            : chr  \"2020\" \"2020\" \"2020\" \"2020\" ...\n",
      " $ Up.or.Down                      : chr  \"up\" \"up\" \"up\" \"up\" ...\n",
      " $ Artist                          : chr  \"The Weeknd\" \"Billie Eilish\" \"Tones and I\" \"Roddy Ricch\" ...\n",
      " $ Song                            : chr  \"Blinding Lights\" \"everything i wanted\" \"Dance Monkey\" \"The Box\" ...\n",
      " $ Last.Week                       : chr  \"1\" \"7\" \"3\" \"4\" ...\n",
      " $ Peak.Position                   : int  1 2 1 4 2 3 2 1 2 8 ...\n",
      " $ Weeks.on.Chart                  : int  10 12 13 5 3 13 13 4 5 7 ...\n",
      " $ Global.Chart.Debut              : int  94 53 6 91 84 5 19 86 86 NA ...\n",
      " $ Week.GC                         : chr  \"2019-12-01\" \"2019-11-17\" \"2019-10-06\" \"2019-12-08\" ...\n",
      " $ Highest.Position.in.Global.Chart: int  1 3 1 2 12 5 3 6 3 NA ...\n",
      " $ Week.HP                         : chr  \"2020-03-01\" \"2019-11-24\" \"2019-11-10\" \"2020-02-16\" ...\n",
      " $ Gender                          : int  2 1 1 2 2 1 1 2 2 2 ...\n"
     ]
    }
   ],
   "source": [
    "#Checking column names\n",
    "str(Danmark)"
   ]
  },
  {
   "cell_type": "code",
   "execution_count": 7,
   "id": "429cb812-f1e9-4da9-9925-c80f54dd1e43",
   "metadata": {},
   "outputs": [
    {
     "data": {
      "text/html": [
       "<table class=\"dataframe\">\n",
       "<caption>A data.frame: 6 × 4</caption>\n",
       "<thead>\n",
       "\t<tr><th></th><th scope=col>Position</th><th scope=col>Week</th><th scope=col>Year</th><th scope=col>Gender</th></tr>\n",
       "\t<tr><th></th><th scope=col>&lt;chr&gt;</th><th scope=col>&lt;chr&gt;</th><th scope=col>&lt;chr&gt;</th><th scope=col>&lt;int&gt;</th></tr>\n",
       "</thead>\n",
       "<tbody>\n",
       "\t<tr><th scope=row>1</th><td>1</td><td>052020</td><td>2020</td><td>2</td></tr>\n",
       "\t<tr><th scope=row>2</th><td>2</td><td>052020</td><td>2020</td><td>1</td></tr>\n",
       "\t<tr><th scope=row>3</th><td>3</td><td>052020</td><td>2020</td><td>1</td></tr>\n",
       "\t<tr><th scope=row>4</th><td>4</td><td>052020</td><td>2020</td><td>2</td></tr>\n",
       "\t<tr><th scope=row>5</th><td>5</td><td>052020</td><td>2020</td><td>2</td></tr>\n",
       "\t<tr><th scope=row>6</th><td>6</td><td>052020</td><td>2020</td><td>1</td></tr>\n",
       "</tbody>\n",
       "</table>\n"
      ],
      "text/latex": [
       "A data.frame: 6 × 4\n",
       "\\begin{tabular}{r|llll}\n",
       "  & Position & Week & Year & Gender\\\\\n",
       "  & <chr> & <chr> & <chr> & <int>\\\\\n",
       "\\hline\n",
       "\t1 & 1 & 052020 & 2020 & 2\\\\\n",
       "\t2 & 2 & 052020 & 2020 & 1\\\\\n",
       "\t3 & 3 & 052020 & 2020 & 1\\\\\n",
       "\t4 & 4 & 052020 & 2020 & 2\\\\\n",
       "\t5 & 5 & 052020 & 2020 & 2\\\\\n",
       "\t6 & 6 & 052020 & 2020 & 1\\\\\n",
       "\\end{tabular}\n"
      ],
      "text/markdown": [
       "\n",
       "A data.frame: 6 × 4\n",
       "\n",
       "| <!--/--> | Position &lt;chr&gt; | Week &lt;chr&gt; | Year &lt;chr&gt; | Gender &lt;int&gt; |\n",
       "|---|---|---|---|---|\n",
       "| 1 | 1 | 052020 | 2020 | 2 |\n",
       "| 2 | 2 | 052020 | 2020 | 1 |\n",
       "| 3 | 3 | 052020 | 2020 | 1 |\n",
       "| 4 | 4 | 052020 | 2020 | 2 |\n",
       "| 5 | 5 | 052020 | 2020 | 2 |\n",
       "| 6 | 6 | 052020 | 2020 | 1 |\n",
       "\n"
      ],
      "text/plain": [
       "  Position Week   Year Gender\n",
       "1 1        052020 2020 2     \n",
       "2 2        052020 2020 1     \n",
       "3 3        052020 2020 1     \n",
       "4 4        052020 2020 2     \n",
       "5 5        052020 2020 2     \n",
       "6 6        052020 2020 1     "
      ]
     },
     "metadata": {},
     "output_type": "display_data"
    }
   ],
   "source": [
    "#Removing unwanted columns\n",
    "Danmark2 = select(Danmark, -Up.or.Down:-Week.HP)\n",
    "head(Danmark2)"
   ]
  },
  {
   "cell_type": "code",
   "execution_count": 8,
   "id": "676b8fb6-1405-4167-a702-f2e59cfc0e93",
   "metadata": {},
   "outputs": [],
   "source": [
    "#converting Gender from integer to factor\n",
    "Danmark2[,'Gender'] <- as.factor(as.integer(Danmark2[,'Gender']))"
   ]
  },
  {
   "cell_type": "code",
   "execution_count": 9,
   "id": "0716e42d-b3d8-4b43-9a9c-4b53299d3aca",
   "metadata": {},
   "outputs": [
    {
     "data": {
      "text/html": [
       "<table class=\"dataframe\">\n",
       "<caption>A data.frame: 6 × 4</caption>\n",
       "<thead>\n",
       "\t<tr><th></th><th scope=col>Position</th><th scope=col>Week</th><th scope=col>Year</th><th scope=col>Gender</th></tr>\n",
       "\t<tr><th></th><th scope=col>&lt;chr&gt;</th><th scope=col>&lt;chr&gt;</th><th scope=col>&lt;chr&gt;</th><th scope=col>&lt;fct&gt;</th></tr>\n",
       "</thead>\n",
       "<tbody>\n",
       "\t<tr><th scope=row>1</th><td>1</td><td>052020</td><td>2020</td><td>2</td></tr>\n",
       "\t<tr><th scope=row>2</th><td>2</td><td>052020</td><td>2020</td><td>1</td></tr>\n",
       "\t<tr><th scope=row>3</th><td>3</td><td>052020</td><td>2020</td><td>1</td></tr>\n",
       "\t<tr><th scope=row>4</th><td>4</td><td>052020</td><td>2020</td><td>2</td></tr>\n",
       "\t<tr><th scope=row>5</th><td>5</td><td>052020</td><td>2020</td><td>2</td></tr>\n",
       "\t<tr><th scope=row>6</th><td>6</td><td>052020</td><td>2020</td><td>1</td></tr>\n",
       "</tbody>\n",
       "</table>\n"
      ],
      "text/latex": [
       "A data.frame: 6 × 4\n",
       "\\begin{tabular}{r|llll}\n",
       "  & Position & Week & Year & Gender\\\\\n",
       "  & <chr> & <chr> & <chr> & <fct>\\\\\n",
       "\\hline\n",
       "\t1 & 1 & 052020 & 2020 & 2\\\\\n",
       "\t2 & 2 & 052020 & 2020 & 1\\\\\n",
       "\t3 & 3 & 052020 & 2020 & 1\\\\\n",
       "\t4 & 4 & 052020 & 2020 & 2\\\\\n",
       "\t5 & 5 & 052020 & 2020 & 2\\\\\n",
       "\t6 & 6 & 052020 & 2020 & 1\\\\\n",
       "\\end{tabular}\n"
      ],
      "text/markdown": [
       "\n",
       "A data.frame: 6 × 4\n",
       "\n",
       "| <!--/--> | Position &lt;chr&gt; | Week &lt;chr&gt; | Year &lt;chr&gt; | Gender &lt;fct&gt; |\n",
       "|---|---|---|---|---|\n",
       "| 1 | 1 | 052020 | 2020 | 2 |\n",
       "| 2 | 2 | 052020 | 2020 | 1 |\n",
       "| 3 | 3 | 052020 | 2020 | 1 |\n",
       "| 4 | 4 | 052020 | 2020 | 2 |\n",
       "| 5 | 5 | 052020 | 2020 | 2 |\n",
       "| 6 | 6 | 052020 | 2020 | 1 |\n",
       "\n"
      ],
      "text/plain": [
       "  Position Week   Year Gender\n",
       "1 1        052020 2020 2     \n",
       "2 2        052020 2020 1     \n",
       "3 3        052020 2020 1     \n",
       "4 4        052020 2020 2     \n",
       "5 5        052020 2020 2     \n",
       "6 6        052020 2020 1     "
      ]
     },
     "metadata": {},
     "output_type": "display_data"
    }
   ],
   "source": [
    "#Checking\n",
    "head(Danmark2)"
   ]
  },
  {
   "cell_type": "code",
   "execution_count": 10,
   "id": "3fa96822-7fe7-4db8-b31f-402dd8f888ad",
   "metadata": {},
   "outputs": [],
   "source": [
    "Danmark2[,'Year'] <- as.integer(as.character(Danmark2[,'Year']))\n",
    "Danmark2[,'Week'] <- as.integer(as.character(Danmark2[,'Week']))"
   ]
  },
  {
   "cell_type": "code",
   "execution_count": 15,
   "id": "c2e09561-fb44-4bf5-a3a8-f3d2deeb3697",
   "metadata": {},
   "outputs": [
    {
     "data": {
      "text/html": [
       "<table class=\"dataframe\">\n",
       "<caption>A data.frame: 6 × 4</caption>\n",
       "<thead>\n",
       "\t<tr><th></th><th scope=col>Position</th><th scope=col>Week</th><th scope=col>Year</th><th scope=col>Gender</th></tr>\n",
       "\t<tr><th></th><th scope=col>&lt;chr&gt;</th><th scope=col>&lt;int&gt;</th><th scope=col>&lt;int&gt;</th><th scope=col>&lt;fct&gt;</th></tr>\n",
       "</thead>\n",
       "<tbody>\n",
       "\t<tr><th scope=row>1</th><td>1</td><td>52020</td><td>2020</td><td>2</td></tr>\n",
       "\t<tr><th scope=row>2</th><td>2</td><td>52020</td><td>2020</td><td>1</td></tr>\n",
       "\t<tr><th scope=row>3</th><td>3</td><td>52020</td><td>2020</td><td>1</td></tr>\n",
       "\t<tr><th scope=row>4</th><td>4</td><td>52020</td><td>2020</td><td>2</td></tr>\n",
       "\t<tr><th scope=row>5</th><td>5</td><td>52020</td><td>2020</td><td>2</td></tr>\n",
       "\t<tr><th scope=row>6</th><td>6</td><td>52020</td><td>2020</td><td>1</td></tr>\n",
       "</tbody>\n",
       "</table>\n"
      ],
      "text/latex": [
       "A data.frame: 6 × 4\n",
       "\\begin{tabular}{r|llll}\n",
       "  & Position & Week & Year & Gender\\\\\n",
       "  & <chr> & <int> & <int> & <fct>\\\\\n",
       "\\hline\n",
       "\t1 & 1 & 52020 & 2020 & 2\\\\\n",
       "\t2 & 2 & 52020 & 2020 & 1\\\\\n",
       "\t3 & 3 & 52020 & 2020 & 1\\\\\n",
       "\t4 & 4 & 52020 & 2020 & 2\\\\\n",
       "\t5 & 5 & 52020 & 2020 & 2\\\\\n",
       "\t6 & 6 & 52020 & 2020 & 1\\\\\n",
       "\\end{tabular}\n"
      ],
      "text/markdown": [
       "\n",
       "A data.frame: 6 × 4\n",
       "\n",
       "| <!--/--> | Position &lt;chr&gt; | Week &lt;int&gt; | Year &lt;int&gt; | Gender &lt;fct&gt; |\n",
       "|---|---|---|---|---|\n",
       "| 1 | 1 | 52020 | 2020 | 2 |\n",
       "| 2 | 2 | 52020 | 2020 | 1 |\n",
       "| 3 | 3 | 52020 | 2020 | 1 |\n",
       "| 4 | 4 | 52020 | 2020 | 2 |\n",
       "| 5 | 5 | 52020 | 2020 | 2 |\n",
       "| 6 | 6 | 52020 | 2020 | 1 |\n",
       "\n"
      ],
      "text/plain": [
       "  Position Week  Year Gender\n",
       "1 1        52020 2020 2     \n",
       "2 2        52020 2020 1     \n",
       "3 3        52020 2020 1     \n",
       "4 4        52020 2020 2     \n",
       "5 5        52020 2020 2     \n",
       "6 6        52020 2020 1     "
      ]
     },
     "metadata": {},
     "output_type": "display_data"
    }
   ],
   "source": [
    "head(Danmark2)"
   ]
  },
  {
   "cell_type": "code",
   "execution_count": 17,
   "id": "a096d511-a07f-4331-8a89-7d6245f5730a",
   "metadata": {},
   "outputs": [
    {
     "name": "stderr",
     "output_type": "stream",
     "text": [
      "\u001b[1m\u001b[22m`summarise()` has grouped output by 'Week'. You can override using the\n",
      "`.groups` argument.\n"
     ]
    }
   ],
   "source": [
    "# summarised female representation for each week\n",
    "just_womenD <- Danmark2 %>%\n",
    "    filter(Gender == 1) %>%\n",
    "    group_by(Week, Year) %>%\n",
    "    summarise(count = n())"
   ]
  },
  {
   "cell_type": "code",
   "execution_count": 18,
   "id": "da2bc819-aaad-4ae4-b882-c7de49d7c412",
   "metadata": {},
   "outputs": [
    {
     "data": {
      "text/html": [
       "<table class=\"dataframe\">\n",
       "<caption>A grouped_df: 15 × 3</caption>\n",
       "<thead>\n",
       "\t<tr><th scope=col>Week</th><th scope=col>Year</th><th scope=col>count</th></tr>\n",
       "\t<tr><th scope=col>&lt;int&gt;</th><th scope=col>&lt;int&gt;</th><th scope=col>&lt;int&gt;</th></tr>\n",
       "</thead>\n",
       "<tbody>\n",
       "\t<tr><td> 42021</td><td>2021</td><td>29</td></tr>\n",
       "\t<tr><td> 42022</td><td>2022</td><td>23</td></tr>\n",
       "\t<tr><td> 42023</td><td>2023</td><td>15</td></tr>\n",
       "\t<tr><td> 52020</td><td>2020</td><td>24</td></tr>\n",
       "\t<tr><td> 52024</td><td>2024</td><td>22</td></tr>\n",
       "\t<tr><td>212021</td><td>2021</td><td>28</td></tr>\n",
       "\t<tr><td>212022</td><td>2022</td><td>14</td></tr>\n",
       "\t<tr><td>222020</td><td>2020</td><td>28</td></tr>\n",
       "\t<tr><td>222023</td><td>2023</td><td>17</td></tr>\n",
       "\t<tr><td>222024</td><td>2024</td><td>29</td></tr>\n",
       "\t<tr><td>392021</td><td>2021</td><td>14</td></tr>\n",
       "\t<tr><td>392022</td><td>2022</td><td>12</td></tr>\n",
       "\t<tr><td>392023</td><td>2023</td><td>23</td></tr>\n",
       "\t<tr><td>392024</td><td>2024</td><td>21</td></tr>\n",
       "\t<tr><td>402020</td><td>2020</td><td>17</td></tr>\n",
       "</tbody>\n",
       "</table>\n"
      ],
      "text/latex": [
       "A grouped\\_df: 15 × 3\n",
       "\\begin{tabular}{lll}\n",
       " Week & Year & count\\\\\n",
       " <int> & <int> & <int>\\\\\n",
       "\\hline\n",
       "\t  42021 & 2021 & 29\\\\\n",
       "\t  42022 & 2022 & 23\\\\\n",
       "\t  42023 & 2023 & 15\\\\\n",
       "\t  52020 & 2020 & 24\\\\\n",
       "\t  52024 & 2024 & 22\\\\\n",
       "\t 212021 & 2021 & 28\\\\\n",
       "\t 212022 & 2022 & 14\\\\\n",
       "\t 222020 & 2020 & 28\\\\\n",
       "\t 222023 & 2023 & 17\\\\\n",
       "\t 222024 & 2024 & 29\\\\\n",
       "\t 392021 & 2021 & 14\\\\\n",
       "\t 392022 & 2022 & 12\\\\\n",
       "\t 392023 & 2023 & 23\\\\\n",
       "\t 392024 & 2024 & 21\\\\\n",
       "\t 402020 & 2020 & 17\\\\\n",
       "\\end{tabular}\n"
      ],
      "text/markdown": [
       "\n",
       "A grouped_df: 15 × 3\n",
       "\n",
       "| Week &lt;int&gt; | Year &lt;int&gt; | count &lt;int&gt; |\n",
       "|---|---|---|\n",
       "|  42021 | 2021 | 29 |\n",
       "|  42022 | 2022 | 23 |\n",
       "|  42023 | 2023 | 15 |\n",
       "|  52020 | 2020 | 24 |\n",
       "|  52024 | 2024 | 22 |\n",
       "| 212021 | 2021 | 28 |\n",
       "| 212022 | 2022 | 14 |\n",
       "| 222020 | 2020 | 28 |\n",
       "| 222023 | 2023 | 17 |\n",
       "| 222024 | 2024 | 29 |\n",
       "| 392021 | 2021 | 14 |\n",
       "| 392022 | 2022 | 12 |\n",
       "| 392023 | 2023 | 23 |\n",
       "| 392024 | 2024 | 21 |\n",
       "| 402020 | 2020 | 17 |\n",
       "\n"
      ],
      "text/plain": [
       "   Week   Year count\n",
       "1   42021 2021 29   \n",
       "2   42022 2022 23   \n",
       "3   42023 2023 15   \n",
       "4   52020 2020 24   \n",
       "5   52024 2024 22   \n",
       "6  212021 2021 28   \n",
       "7  212022 2022 14   \n",
       "8  222020 2020 28   \n",
       "9  222023 2023 17   \n",
       "10 222024 2024 29   \n",
       "11 392021 2021 14   \n",
       "12 392022 2022 12   \n",
       "13 392023 2023 23   \n",
       "14 392024 2024 21   \n",
       "15 402020 2020 17   "
      ]
     },
     "metadata": {},
     "output_type": "display_data"
    }
   ],
   "source": [
    "#show\n",
    "just_womenD"
   ]
  },
  {
   "cell_type": "code",
   "execution_count": 33,
   "id": "2b17edfb-0103-44a6-9e2c-960c78171769",
   "metadata": {},
   "outputs": [
    {
     "data": {
      "image/png": "[encoded data removed]",
      "text/plain": [
       "plot without title"
      ]
     },
     "metadata": {
      "image/png": {
       "height": 420,
       "width": 420
      }
     },
     "output_type": "display_data"
    }
   ],
   "source": [
    "#plotting the data\n",
    "ggplot(just_womenD,\n",
    "       aes(x = Year,\n",
    "           y = count)) +\n",
    "    geom_point(position = 'jitter') +\n",
    "    ylim(0,100)"
   ]
  },
  {
   "cell_type": "code",
   "execution_count": null,
   "id": "1341f97d-fc00-4df8-9e39-cc2afd4aac26",
   "metadata": {},
   "outputs": [],
   "source": [
    "# tommorrow: run test to show no correlation"
   ]
  },
  {
   "cell_type": "code",
   "execution_count": null,
   "id": "29b154cd-161a-47ee-9231-d0c1e9c4a6eb",
   "metadata": {},
   "outputs": [],
   "source": []
  },
  {
   "cell_type": "code",
   "execution_count": null,
   "id": "9a22ff41-14de-43ea-8e12-4b0d85d49733",
   "metadata": {},
   "outputs": [],
   "source": [
    "# making a variable of each table for norway\n",
    "N052020 <- read.csv(\"/work/CulturalDataScience/Norge Data/Norge Top Songs - 2020-W05.csv\")\n",
    "N222020 <- read.csv(\"/work/CulturalDataScience/Norge Data/Norge Top Songs - 2020-W22.csv\")\n",
    "N402020 <- read.csv(\"/work/CulturalDataScience/Norge Data/Norge Top Songs - 2020-W40.csv\")\n",
    "N042021 <- read.csv(\"/work/CulturalDataScience/Norge Data/Norge Top Songs - 2021-W04.csv\")\n",
    "N212021 <- read.csv(\"/work/CulturalDataScience/Norge Data/Norge Top Songs - 2021-W21.csv\")\n",
    "N392021 <- read.csv(\"/work/CulturalDataScience/Norge Data/Norge Top Songs - 2021-W39.csv\")\n",
    "N042022 <- read.csv(\"/work/CulturalDataScience/Norge Data/Norge Top Songs - 2022-W04.csv\")\n",
    "N212022 <- read.csv(\"/work/CulturalDataScience/Norge Data/Norge Top Songs - 2022-W21.csv\")\n",
    "N392022 <- read.csv(\"/work/CulturalDataScience/Norge Data/Norge Top Songs - 2022-W39.csv\")\n",
    "N042023 <- read.csv(\"/work/CulturalDataScience/Norge Data/Norge Top Songs - 2023-W04.csv\")\n",
    "N222023 <- read.csv(\"/work/CulturalDataScience/Norge Data/Norge Top Songs - 2023-W22.csv\")\n",
    "N392023 <- read.csv(\"/work/CulturalDataScience/Norge Data/Norge Top Songs - 2023-W39.csv\")\n",
    "N052024 <- read.csv(\"/work/CulturalDataScience/Norge Data/Norge Top Songs - 2024-W05.csv\")\n",
    "N222024 <- read.csv(\"/work/CulturalDataScience/Norge Data/Norge Top Songs - 2024-W22.csv\")\n",
    "N392024 <- read.csv(\"/work/CulturalDataScience/Norge Data/Norge Top Songs - 2024-W39.csv\")"
   ]
  },
  {
   "cell_type": "code",
   "execution_count": null,
   "id": "c599b58b-d204-4b21-8f69-c968ec4a8e2a",
   "metadata": {},
   "outputs": [],
   "source": [
    "# adding column with weekname and year\n",
    "N052020 <- data.frame(append(N052020, c(Week='05-2020', Year='2020'), after=1))\n",
    "N222020 <- data.frame(append(N222020, c(Week='22-2020', Year='2020'), after=1))\n",
    "N402020 <- data.frame(append(N402020, c(Week='40-2020', Year='2020'), after=1))\n",
    "N042021 <- data.frame(append(N042021, c(Week='04-2021', Year='2021'), after=1))\n",
    "N212021 <- data.frame(append(N212021, c(Week='21-2021', Year='2021'), after=1))\n",
    "N392021 <- data.frame(append(N392021, c(Week='39-2021', Year='2021'), after=1))\n",
    "N042022 <- data.frame(append(N042022, c(Week='04-2022', Year='2022'), after=1))\n",
    "N212022 <- data.frame(append(N212022, c(Week='21-2022', Year='2022'), after=1))\n",
    "N392022 <- data.frame(append(N392022, c(Week='39-2022', Year='2022'), after=1))\n",
    "N042023 <- data.frame(append(N042023, c(Week='04-2023', Year='2023'), after=1))\n",
    "N222023 <- data.frame(append(N222023, c(Week='22-2023', Year='2023'), after=1))\n",
    "N392023 <- data.frame(append(N392023, c(Week='39-2023', Year='2023'), after=1))\n",
    "N052024 <- data.frame(append(N052024, c(Week='05-2024', Year='2024'), after=1))\n",
    "N222024 <- data.frame(append(N222024, c(Week='22-2024', Year='2024'), after=1))\n",
    "N392024 <- data.frame(append(N392024, c(Week='39-2024', Year='2024'), after=1))"
   ]
  },
  {
   "cell_type": "code",
   "execution_count": null,
   "id": "ee792f2a-15ab-4a1e-bc5a-a58aa5cefdc9",
   "metadata": {},
   "outputs": [],
   "source": [
    "#Binding dataframes together\n",
    "\n",
    "Norge <- rbind(N052020, N222020, N402020, N042021,N212021,N392021,N042022,N212022,N392022,N042023,N222023,N392023,N052024,N222024,N392024)"
   ]
  },
  {
   "cell_type": "code",
   "execution_count": null,
   "id": "20dedb20-694d-4986-ad80-81832ec701cb",
   "metadata": {},
   "outputs": [],
   "source": [
    "#Checking\n",
    "str(Norge)"
   ]
  },
  {
   "cell_type": "code",
   "execution_count": null,
   "id": "9dda0bae-88e9-496b-b18b-dce2cdbb8bb9",
   "metadata": {},
   "outputs": [],
   "source": [
    "#Removing unwanted columns\n",
    "Norge2 = select(Norge, -Up.or.Down:-Week.HP)\n",
    "head(Norge2)"
   ]
  },
  {
   "cell_type": "code",
   "execution_count": null,
   "id": "c17194ce-5a42-4c65-9ea9-e32f580a6a09",
   "metadata": {},
   "outputs": [],
   "source": [
    "#converting Gender from integer to factor\n",
    "Norge2[,'Gender'] <- as.factor(as.integer(Norge2[,'Gender']))"
   ]
  },
  {
   "cell_type": "code",
   "execution_count": null,
   "id": "d0dcfd8a-1635-4e44-9af1-cb464ae9b589",
   "metadata": {},
   "outputs": [],
   "source": [
    "#checking\n",
    "head(Norge2)"
   ]
  },
  {
   "cell_type": "code",
   "execution_count": 34,
   "id": "63f4739b-6aaa-4d90-8179-746e5ccf36b0",
   "metadata": {},
   "outputs": [
    {
     "ename": "ERROR",
     "evalue": "Error: object 'Norge2' not found\n",
     "output_type": "error",
     "traceback": [
      "Error: object 'Norge2' not found\nTraceback:\n",
      "1. summarise(., count = n())",
      "2. group_by(., Week, Year)",
      "3. filter(., Gender == 1)",
      "4. .handleSimpleError(function (cnd) \n . {\n .     watcher$capture_plot_and_output()\n .     cnd <- sanitize_call(cnd)\n .     watcher$push(cnd)\n .     switch(on_error, continue = invokeRestart(\"eval_continue\"), \n .         stop = invokeRestart(\"eval_stop\"), error = invokeRestart(\"eval_error\", \n .             cnd))\n . }, \"object 'Norge2' not found\", base::quote(eval(expr, envir)))"
     ]
    }
   ],
   "source": [
    "just_womenN <- Norge2 %>%\n",
    "    filter(Gender == 1) %>%\n",
    "    group_by(Week, Year) %>%\n",
    "    summarise(count = n())"
   ]
  },
  {
   "cell_type": "code",
   "execution_count": null,
   "id": "02bed493-7b91-4552-b514-a7299a6b67a4",
   "metadata": {},
   "outputs": [],
   "source": []
  }
 ],
 "metadata": {
  "kernelspec": {
   "display_name": "R",
   "language": "R",
   "name": "ir"
  },
  "language_info": {
   "codemirror_mode": "r",
   "file_extension": ".r",
   "mimetype": "text/x-r-source",
   "name": "R",
   "pygments_lexer": "r",
   "version": "4.4.1"
  }
 },
 "nbformat": 4,
 "nbformat_minor": 5
}
