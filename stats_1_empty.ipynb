{
 "cells": [
  {
   "cell_type": "markdown",
   "id": "1a846cfe-d705-4f1f-866b-b4b370af384d",
   "metadata": {},
   "source": [
    "# Part 1 - The basics"
   ]
  },
  {
   "cell_type": "markdown",
   "id": "223204e5-f880-46d3-b81f-63e24071759b",
   "metadata": {},
   "source": [
    "R is just a calculator."
   ]
  },
  {
   "cell_type": "code",
   "execution_count": 1,
   "id": "21e221b0-07e2-49e1-b9a9-c3950d59cf3d",
   "metadata": {},
   "outputs": [
    {
     "data": {
      "text/html": [
       "7"
      ],
      "text/latex": [
       "7"
      ],
      "text/markdown": [
       "7"
      ],
      "text/plain": [
       "[1] 7"
      ]
     },
     "metadata": {},
     "output_type": "display_data"
    }
   ],
   "source": [
    "4+3"
   ]
  },
  {
   "cell_type": "code",
   "execution_count": 2,
   "id": "265925a8-24b1-497f-ad40-fb97d803ce77",
   "metadata": {},
   "outputs": [
    {
     "data": {
      "text/html": [
       "3"
      ],
      "text/latex": [
       "3"
      ],
      "text/markdown": [
       "3"
      ],
      "text/plain": [
       "[1] 3"
      ]
     },
     "metadata": {},
     "output_type": "display_data"
    }
   ],
   "source": [
    "4-1"
   ]
  },
  {
   "cell_type": "markdown",
   "id": "5acd0cf3-6792-4e36-8e68-79c022c09f93",
   "metadata": {},
   "source": [
    "There is special syntax for multiplication and division."
   ]
  },
  {
   "cell_type": "code",
   "execution_count": 3,
   "id": "b77555ea-1d89-4527-a565-5c1966606e2d",
   "metadata": {},
   "outputs": [
    {
     "data": {
      "text/html": [
       "12"
      ],
      "text/latex": [
       "12"
      ],
      "text/markdown": [
       "12"
      ],
      "text/plain": [
       "[1] 12"
      ]
     },
     "metadata": {},
     "output_type": "display_data"
    }
   ],
   "source": [
    "4*3"
   ]
  },
  {
   "cell_type": "code",
   "execution_count": 4,
   "id": "ef1d5efe-3dea-40dd-b96c-88ad80fb0a15",
   "metadata": {},
   "outputs": [
    {
     "data": {
      "text/html": [
       "3"
      ],
      "text/latex": [
       "3"
      ],
      "text/markdown": [
       "3"
      ],
      "text/plain": [
       "[1] 3"
      ]
     },
     "metadata": {},
     "output_type": "display_data"
    }
   ],
   "source": [
    "12/4"
   ]
  },
  {
   "cell_type": "markdown",
   "id": "74e06cd4-c9cc-46cd-91eb-154947ae895a",
   "metadata": {},
   "source": [
    "We can also assign numbers to variables and to operations."
   ]
  },
  {
   "cell_type": "code",
   "execution_count": 5,
   "id": "ffbb4db1-36f8-4371-b860-b9e1136b93b7",
   "metadata": {},
   "outputs": [
    {
     "data": {
      "text/html": [
       "7"
      ],
      "text/latex": [
       "7"
      ],
      "text/markdown": [
       "7"
      ],
      "text/plain": [
       "[1] 7"
      ]
     },
     "metadata": {},
     "output_type": "display_data"
    }
   ],
   "source": [
    "A <- 4\n",
    "B <- 3\n",
    "A + B"
   ]
  },
  {
   "cell_type": "markdown",
   "id": "e849af61-59e4-4c22-8359-93fbf214c73b",
   "metadata": {},
   "source": [
    "A function is just something with an input and an output."
   ]
  },
  {
   "cell_type": "code",
   "execution_count": 6,
   "id": "61462036-ed36-4270-a768-fd130530865e",
   "metadata": {},
   "outputs": [
    {
     "data": {
      "text/html": [
       "7"
      ],
      "text/latex": [
       "7"
      ],
      "text/markdown": [
       "7"
      ],
      "text/plain": [
       "[1] 7"
      ]
     },
     "metadata": {},
     "output_type": "display_data"
    }
   ],
   "source": [
    "sum(4,3)"
   ]
  },
  {
   "cell_type": "code",
   "execution_count": 7,
   "id": "c5260e87-8683-4e6b-91ab-383c9637aa76",
   "metadata": {},
   "outputs": [
    {
     "data": {
      "text/html": [
       "2"
      ],
      "text/latex": [
       "2"
      ],
      "text/markdown": [
       "2"
      ],
      "text/plain": [
       "[1] 2"
      ]
     },
     "metadata": {},
     "output_type": "display_data"
    }
   ],
   "source": [
    "#square root\n",
    "sqrt(4)"
   ]
  },
  {
   "cell_type": "code",
   "execution_count": 8,
   "id": "11c137cb-3fb2-4a4d-8b27-6b59f52739a9",
   "metadata": {},
   "outputs": [
    {
     "data": {
      "text/html": [
       "7"
      ],
      "text/latex": [
       "7"
      ],
      "text/markdown": [
       "7"
      ],
      "text/plain": [
       "[1] 7"
      ]
     },
     "metadata": {},
     "output_type": "display_data"
    }
   ],
   "source": [
    "sum(A,B)"
   ]
  },
  {
   "cell_type": "markdown",
   "id": "3e91f7cc-255b-48f4-ab57-eb7391ee4abb",
   "metadata": {},
   "source": [
    "# Part 2 - A bit more advanced"
   ]
  },
  {
   "cell_type": "markdown",
   "id": "248b1114-2884-4f05-bffc-56e160aea5cc",
   "metadata": {},
   "source": [
    "The nice thing about R is that unlike on a calculator, you can keep track of your operations. This is important for reproducing your work, and doing more complicated stuff. Let's look at some of this more complicated stuff!"
   ]
  },
  {
   "cell_type": "markdown",
   "id": "ac06ad57-0aeb-4026-94da-8c7c106cf4f5",
   "metadata": {},
   "source": [
    "We can assign lists of numbers to variables. This is called an array.\n",
    "'c' is just a function. It means 'concatenate'."
   ]
  },
  {
   "cell_type": "code",
   "execution_count": 9,
   "id": "4e6a29ac-95f4-4fb9-990b-8a62069bcd76",
   "metadata": {},
   "outputs": [],
   "source": [
    "A <- c(1,2,3,4,5)\n",
    "B <- c(2,2,2,2,2)"
   ]
  },
  {
   "cell_type": "markdown",
   "id": "c24e1454-776f-4daf-a99e-25200904b9ee",
   "metadata": {},
   "source": [
    "We can do operations on lists too, the same as for simpler variables.\n",
    "We can make a new variable in the process."
   ]
  },
  {
   "cell_type": "code",
   "execution_count": 10,
   "id": "aba7981c-75e6-4f6d-a5cf-9820890daa6b",
   "metadata": {},
   "outputs": [],
   "source": [
    "C <- A+B"
   ]
  },
  {
   "cell_type": "markdown",
   "id": "9bc9f880-9552-48c3-9e09-18c606f30a30",
   "metadata": {},
   "source": [
    "To see the output, you need to call the variable directly."
   ]
  },
  {
   "cell_type": "code",
   "execution_count": 11,
   "id": "2860fb03-b59f-414b-87a2-7f181486fee2",
   "metadata": {},
   "outputs": [
    {
     "data": {
      "text/html": [
       "<style>\n",
       ".list-inline {list-style: none; margin:0; padding: 0}\n",
       ".list-inline>li {display: inline-block}\n",
       ".list-inline>li:not(:last-child)::after {content: \"\\00b7\"; padding: 0 .5ex}\n",
       "</style>\n",
       "<ol class=list-inline><li>3</li><li>4</li><li>5</li><li>6</li><li>7</li></ol>\n"
      ],
      "text/latex": [
       "\\begin{enumerate*}\n",
       "\\item 3\n",
       "\\item 4\n",
       "\\item 5\n",
       "\\item 6\n",
       "\\item 7\n",
       "\\end{enumerate*}\n"
      ],
      "text/markdown": [
       "1. 3\n",
       "2. 4\n",
       "3. 5\n",
       "4. 6\n",
       "5. 7\n",
       "\n",
       "\n"
      ],
      "text/plain": [
       "[1] 3 4 5 6 7"
      ]
     },
     "metadata": {},
     "output_type": "display_data"
    }
   ],
   "source": [
    "C"
   ]
  },
  {
   "cell_type": "markdown",
   "id": "acfd0860-c27e-4e04-b5ba-ab599b7f9986",
   "metadata": {},
   "source": [
    "We can use other functions to make lists. We can make sequences..."
   ]
  },
  {
   "cell_type": "code",
   "execution_count": 12,
   "id": "df9fb366-73e2-41f9-95ae-dbb3c2cc57c3",
   "metadata": {},
   "outputs": [
    {
     "data": {
      "text/html": [
       "<style>\n",
       ".list-inline {list-style: none; margin:0; padding: 0}\n",
       ".list-inline>li {display: inline-block}\n",
       ".list-inline>li:not(:last-child)::after {content: \"\\00b7\"; padding: 0 .5ex}\n",
       "</style>\n",
       "<ol class=list-inline><li>1</li><li>2</li><li>3</li><li>4</li><li>5</li></ol>\n"
      ],
      "text/latex": [
       "\\begin{enumerate*}\n",
       "\\item 1\n",
       "\\item 2\n",
       "\\item 3\n",
       "\\item 4\n",
       "\\item 5\n",
       "\\end{enumerate*}\n"
      ],
      "text/markdown": [
       "1. 1\n",
       "2. 2\n",
       "3. 3\n",
       "4. 4\n",
       "5. 5\n",
       "\n",
       "\n"
      ],
      "text/plain": [
       "[1] 1 2 3 4 5"
      ]
     },
     "metadata": {},
     "output_type": "display_data"
    }
   ],
   "source": [
    "# lowest number, highest number, steps\n",
    "A <- seq(1,5,1)\n",
    "A"
   ]
  },
  {
   "cell_type": "markdown",
   "id": "2fb47e4b-4003-47a5-b65f-5eb3ce8450a6",
   "metadata": {},
   "source": [
    "...or repeat numbers"
   ]
  },
  {
   "cell_type": "code",
   "execution_count": 13,
   "id": "8a60419c-b130-421d-b220-41465cf63a47",
   "metadata": {},
   "outputs": [
    {
     "data": {
      "text/html": [
       "<style>\n",
       ".list-inline {list-style: none; margin:0; padding: 0}\n",
       ".list-inline>li {display: inline-block}\n",
       ".list-inline>li:not(:last-child)::after {content: \"\\00b7\"; padding: 0 .5ex}\n",
       "</style>\n",
       "<ol class=list-inline><li>2</li><li>2</li><li>2</li><li>2</li><li>2</li></ol>\n"
      ],
      "text/latex": [
       "\\begin{enumerate*}\n",
       "\\item 2\n",
       "\\item 2\n",
       "\\item 2\n",
       "\\item 2\n",
       "\\item 2\n",
       "\\end{enumerate*}\n"
      ],
      "text/markdown": [
       "1. 2\n",
       "2. 2\n",
       "3. 2\n",
       "4. 2\n",
       "5. 2\n",
       "\n",
       "\n"
      ],
      "text/plain": [
       "[1] 2 2 2 2 2"
      ]
     },
     "metadata": {},
     "output_type": "display_data"
    }
   ],
   "source": [
    "#number, how many times\n",
    "B <- rep(2,5)\n",
    "B"
   ]
  },
  {
   "cell_type": "markdown",
   "id": "ceb4a06c-2759-42d7-b834-c66398ac717c",
   "metadata": {},
   "source": [
    "We can also generate random lists."
   ]
  },
  {
   "cell_type": "code",
   "execution_count": 14,
   "id": "a0b7baea-94b1-4e6e-8285-fb166af80ca8",
   "metadata": {},
   "outputs": [],
   "source": [
    "#uniform distribution - same likelihood of all numbers. #(how many numbers, lowest, highest)\n",
    "weight1 <- runif(30,60,120)\n",
    "weight2 <- runif(30, 80, 140)"
   ]
  },
  {
   "cell_type": "markdown",
   "id": "a9b41cdd-8549-426c-a63a-c48eaef7bebb",
   "metadata": {},
   "source": [
    "A uniform distribution is a probability distribution in which all outcomes are equally likely, resulting in a constant probability density across a specified interval."
   ]
  },
  {
   "cell_type": "markdown",
   "id": "79545d3b-fcaa-4cef-8c6b-ede5ac095ebe",
   "metadata": {},
   "source": [
    "If you are unsure about how a function works, there's a built-in way to get help:"
   ]
  },
  {
   "cell_type": "code",
   "execution_count": 15,
   "id": "f032b628-f242-4e9a-a621-b48c232cf34a",
   "metadata": {},
   "outputs": [
    {
     "data": {
      "text/html": [
       "\n",
       "<table style=\"width: 100%;\"><tr><td>Uniform {stats}</td><td style=\"text-align: right;\">R Documentation</td></tr></table>\n",
       "\n",
       "<h2>The Uniform Distribution</h2>\n",
       "\n",
       "<h3>Description</h3>\n",
       "\n",
       "<p>These functions provide information about the uniform distribution\n",
       "on the interval from <code>min</code> to <code>max</code>.  <code>dunif</code> gives the\n",
       "density, <code>punif</code> gives the distribution function <code>qunif</code>\n",
       "gives the quantile function and <code>runif</code> generates random\n",
       "deviates.\n",
       "</p>\n",
       "\n",
       "\n",
       "<h3>Usage</h3>\n",
       "\n",
       "<pre><code class='language-R'>dunif(x, min = 0, max = 1, log = FALSE)\n",
       "punif(q, min = 0, max = 1, lower.tail = TRUE, log.p = FALSE)\n",
       "qunif(p, min = 0, max = 1, lower.tail = TRUE, log.p = FALSE)\n",
       "runif(n, min = 0, max = 1)\n",
       "</code></pre>\n",
       "\n",
       "\n",
       "<h3>Arguments</h3>\n",
       "\n",
       "<table>\n",
       "<tr><td><code id=\"x\">x</code>, <code id=\"q\">q</code></td>\n",
       "<td>\n",
       "<p>vector of quantiles.</p>\n",
       "</td></tr>\n",
       "<tr><td><code id=\"p\">p</code></td>\n",
       "<td>\n",
       "<p>vector of probabilities.</p>\n",
       "</td></tr>\n",
       "<tr><td><code id=\"n\">n</code></td>\n",
       "<td>\n",
       "<p>number of observations. If <code>length(n) &gt; 1</code>, the length\n",
       "is taken to be the number required.</p>\n",
       "</td></tr>\n",
       "<tr><td><code id=\"min\">min</code>, <code id=\"max\">max</code></td>\n",
       "<td>\n",
       "<p>lower and upper limits of the distribution.  Must be finite.</p>\n",
       "</td></tr>\n",
       "<tr><td><code id=\"log\">log</code>, <code id=\"log.p\">log.p</code></td>\n",
       "<td>\n",
       "<p>logical; if TRUE, probabilities p are given as log(p).</p>\n",
       "</td></tr>\n",
       "<tr><td><code id=\"lower.tail\">lower.tail</code></td>\n",
       "<td>\n",
       "<p>logical; if TRUE (default), probabilities are\n",
       "<code class=\"reqn\">P[X \\le x]</code>, otherwise, <code class=\"reqn\">P[X &gt; x]</code>.</p>\n",
       "</td></tr>\n",
       "</table>\n",
       "\n",
       "\n",
       "<h3>Details</h3>\n",
       "\n",
       "<p>If <code>min</code> or <code>max</code> are not specified they assume the default\n",
       "values of <code>0</code> and <code>1</code> respectively.\n",
       "</p>\n",
       "<p>The uniform distribution has density\n",
       "</p>\n",
       "<p style=\"text-align: center;\"><code class=\"reqn\">f(x) = \\frac{1}{max-min}</code>\n",
       "</p>\n",
       "\n",
       "<p>for <code class=\"reqn\">min \\le x \\le max</code>.\n",
       "</p>\n",
       "<p>For the case of <code class=\"reqn\">u := min == max</code>, the limit case of\n",
       "<code class=\"reqn\">X \\equiv u</code> is assumed, although there is no density in\n",
       "that case and <code>dunif</code> will return <code>NaN</code> (the error condition).\n",
       "</p>\n",
       "<p><code>runif</code> will not generate either of the extreme values unless\n",
       "<code>max = min</code> or <code>max-min</code> is small compared to <code>min</code>,\n",
       "and in particular not for the default arguments.\n",
       "</p>\n",
       "\n",
       "\n",
       "<h3>Value</h3>\n",
       "\n",
       "<p><code>dunif</code> gives the density,\n",
       "<code>punif</code> gives the distribution function,\n",
       "<code>qunif</code> gives the quantile function, and\n",
       "<code>runif</code> generates random deviates.\n",
       "</p>\n",
       "<p>The length of the result is determined by <code>n</code> for\n",
       "<code>runif</code>, and is the maximum of the lengths of the\n",
       "numerical arguments for the other functions.  \n",
       "</p>\n",
       "<p>The numerical arguments other than <code>n</code> are recycled to the\n",
       "length of the result.  Only the first elements of the logical\n",
       "arguments are used.\n",
       "</p>\n",
       "\n",
       "\n",
       "<h3>Note</h3>\n",
       "\n",
       "<p>The characteristics of output from pseudo-random number generators\n",
       "(such as precision and periodicity) vary widely.  See\n",
       "<code>.Random.seed</code> for more information on <span class=\"rlang\"><b>R</b></span>'s random number\n",
       "generation algorithms.\n",
       "</p>\n",
       "\n",
       "\n",
       "<h3>References</h3>\n",
       "\n",
       "<p>Becker, R. A., Chambers, J. M. and Wilks, A. R. (1988)\n",
       "<em>The New S Language</em>.\n",
       "Wadsworth &amp; Brooks/Cole.\n",
       "</p>\n",
       "\n",
       "\n",
       "<h3>See Also</h3>\n",
       "\n",
       "<p><code>RNG</code> about random number generation in <span class=\"rlang\"><b>R</b></span>.\n",
       "</p>\n",
       "<p>Distributions for other standard distributions.\n",
       "</p>\n",
       "\n",
       "\n",
       "<h3>Examples</h3>\n",
       "\n",
       "<pre><code class='language-R'>u &lt;- runif(20)\n",
       "\n",
       "## The following relations always hold :\n",
       "punif(u) == u\n",
       "dunif(u) == 1\n",
       "\n",
       "var(runif(10000))  #- ~ = 1/12 = .08333\n",
       "</code></pre>\n",
       "\n",
       "<hr /><div style=\"text-align: center;\">[Package <em>stats</em> version 4.4.1 ]</div></main>\n",
       "\n",
       "</div>"
      ],
      "text/latex": [
       "\\inputencoding{utf8}\n",
       "\\HeaderA{Uniform}{The Uniform Distribution}{Uniform}\n",
       "\\aliasA{dunif}{Uniform}{dunif}\n",
       "\\aliasA{punif}{Uniform}{punif}\n",
       "\\aliasA{qunif}{Uniform}{qunif}\n",
       "\\aliasA{runif}{Uniform}{runif}\n",
       "\\keyword{distribution}{Uniform}\n",
       "%\n",
       "\\begin{Description}\n",
       "These functions provide information about the uniform distribution\n",
       "on the interval from \\code{min} to \\code{max}.  \\code{dunif} gives the\n",
       "density, \\code{punif} gives the distribution function \\code{qunif}\n",
       "gives the quantile function and \\code{runif} generates random\n",
       "deviates.\n",
       "\\end{Description}\n",
       "%\n",
       "\\begin{Usage}\n",
       "\\begin{verbatim}\n",
       "dunif(x, min = 0, max = 1, log = FALSE)\n",
       "punif(q, min = 0, max = 1, lower.tail = TRUE, log.p = FALSE)\n",
       "qunif(p, min = 0, max = 1, lower.tail = TRUE, log.p = FALSE)\n",
       "runif(n, min = 0, max = 1)\n",
       "\\end{verbatim}\n",
       "\\end{Usage}\n",
       "%\n",
       "\\begin{Arguments}\n",
       "\\begin{ldescription}\n",
       "\\item[\\code{x}, \\code{q}] vector of quantiles.\n",
       "\\item[\\code{p}] vector of probabilities.\n",
       "\\item[\\code{n}] number of observations. If \\code{length(n) > 1}, the length\n",
       "is taken to be the number required.\n",
       "\\item[\\code{min}, \\code{max}] lower and upper limits of the distribution.  Must be finite.\n",
       "\\item[\\code{log}, \\code{log.p}] logical; if TRUE, probabilities p are given as log(p).\n",
       "\\item[\\code{lower.tail}] logical; if TRUE (default), probabilities are\n",
       "\\eqn{P[X \\le x]}{}, otherwise, \\eqn{P[X > x]}{}.\n",
       "\\end{ldescription}\n",
       "\\end{Arguments}\n",
       "%\n",
       "\\begin{Details}\n",
       "If \\code{min} or \\code{max} are not specified they assume the default\n",
       "values of \\code{0} and \\code{1} respectively.\n",
       "\n",
       "The uniform distribution has density\n",
       "\\deqn{f(x) = \\frac{1}{max-min}}{}\n",
       "for \\eqn{min \\le x \\le max}{}.\n",
       "\n",
       "For the case of \\eqn{u := min == max}{}, the limit case of\n",
       "\\eqn{X \\equiv u}{} is assumed, although there is no density in\n",
       "that case and \\code{dunif} will return \\code{NaN} (the error condition).\n",
       "\n",
       "\\code{runif} will not generate either of the extreme values unless\n",
       "\\code{max = min} or \\code{max-min} is small compared to \\code{min},\n",
       "and in particular not for the default arguments.\n",
       "\\end{Details}\n",
       "%\n",
       "\\begin{Value}\n",
       "\\code{dunif} gives the density,\n",
       "\\code{punif} gives the distribution function,\n",
       "\\code{qunif} gives the quantile function, and\n",
       "\\code{runif} generates random deviates.\n",
       "\n",
       "The length of the result is determined by \\code{n} for\n",
       "\\code{runif}, and is the maximum of the lengths of the\n",
       "numerical arguments for the other functions.  \n",
       "\n",
       "The numerical arguments other than \\code{n} are recycled to the\n",
       "length of the result.  Only the first elements of the logical\n",
       "arguments are used.\n",
       "\\end{Value}\n",
       "%\n",
       "\\begin{Note}\n",
       "The characteristics of output from pseudo-random number generators\n",
       "(such as precision and periodicity) vary widely.  See\n",
       "\\code{\\LinkA{.Random.seed}{.Random.seed}} for more information on \\R{}'s random number\n",
       "generation algorithms.\n",
       "\\end{Note}\n",
       "%\n",
       "\\begin{References}\n",
       "Becker, R. A., Chambers, J. M. and Wilks, A. R. (1988)\n",
       "\\emph{The New S Language}.\n",
       "Wadsworth \\& Brooks/Cole.\n",
       "\\end{References}\n",
       "%\n",
       "\\begin{SeeAlso}\n",
       "\\code{\\LinkA{RNG}{RNG}} about random number generation in \\R{}.\n",
       "\n",
       "\\LinkA{Distributions}{Distributions} for other standard distributions.\n",
       "\\end{SeeAlso}\n",
       "%\n",
       "\\begin{Examples}\n",
       "\\begin{ExampleCode}\n",
       "u <- runif(20)\n",
       "\n",
       "## The following relations always hold :\n",
       "punif(u) == u\n",
       "dunif(u) == 1\n",
       "\n",
       "var(runif(10000))  #- ~ = 1/12 = .08333\n",
       "\\end{ExampleCode}\n",
       "\\end{Examples}"
      ],
      "text/plain": [
       "Uniform                 package:stats                  R Documentation\n",
       "\n",
       "_\bT_\bh_\be _\bU_\bn_\bi_\bf_\bo_\br_\bm _\bD_\bi_\bs_\bt_\br_\bi_\bb_\bu_\bt_\bi_\bo_\bn\n",
       "\n",
       "_\bD_\be_\bs_\bc_\br_\bi_\bp_\bt_\bi_\bo_\bn:\n",
       "\n",
       "     These functions provide information about the uniform distribution\n",
       "     on the interval from ‘min’ to ‘max’.  ‘dunif’ gives the density,\n",
       "     ‘punif’ gives the distribution function ‘qunif’ gives the quantile\n",
       "     function and ‘runif’ generates random deviates.\n",
       "\n",
       "_\bU_\bs_\ba_\bg_\be:\n",
       "\n",
       "     dunif(x, min = 0, max = 1, log = FALSE)\n",
       "     punif(q, min = 0, max = 1, lower.tail = TRUE, log.p = FALSE)\n",
       "     qunif(p, min = 0, max = 1, lower.tail = TRUE, log.p = FALSE)\n",
       "     runif(n, min = 0, max = 1)\n",
       "     \n",
       "_\bA_\br_\bg_\bu_\bm_\be_\bn_\bt_\bs:\n",
       "\n",
       "    x, q: vector of quantiles.\n",
       "\n",
       "       p: vector of probabilities.\n",
       "\n",
       "       n: number of observations. If ‘length(n) > 1’, the length is\n",
       "          taken to be the number required.\n",
       "\n",
       "min, max: lower and upper limits of the distribution.  Must be finite.\n",
       "\n",
       "log, log.p: logical; if TRUE, probabilities p are given as log(p).\n",
       "\n",
       "lower.tail: logical; if TRUE (default), probabilities are P[X <= x],\n",
       "          otherwise, P[X > x].\n",
       "\n",
       "_\bD_\be_\bt_\ba_\bi_\bl_\bs:\n",
       "\n",
       "     If ‘min’ or ‘max’ are not specified they assume the default values\n",
       "     of ‘0’ and ‘1’ respectively.\n",
       "\n",
       "     The uniform distribution has density\n",
       "\n",
       "                             f(x) = 1/(max-min)                         \n",
       "     \n",
       "     for min <= x <= max.\n",
       "\n",
       "     For the case of u := min == max, the limit case of X == u is\n",
       "     assumed, although there is no density in that case and ‘dunif’\n",
       "     will return ‘NaN’ (the error condition).\n",
       "\n",
       "     ‘runif’ will not generate either of the extreme values unless ‘max\n",
       "     = min’ or ‘max-min’ is small compared to ‘min’, and in particular\n",
       "     not for the default arguments.\n",
       "\n",
       "_\bV_\ba_\bl_\bu_\be:\n",
       "\n",
       "     ‘dunif’ gives the density, ‘punif’ gives the distribution\n",
       "     function, ‘qunif’ gives the quantile function, and ‘runif’\n",
       "     generates random deviates.\n",
       "\n",
       "     The length of the result is determined by ‘n’ for ‘runif’, and is\n",
       "     the maximum of the lengths of the numerical arguments for the\n",
       "     other functions.\n",
       "\n",
       "     The numerical arguments other than ‘n’ are recycled to the length\n",
       "     of the result.  Only the first elements of the logical arguments\n",
       "     are used.\n",
       "\n",
       "_\bN_\bo_\bt_\be:\n",
       "\n",
       "     The characteristics of output from pseudo-random number generators\n",
       "     (such as precision and periodicity) vary widely.  See\n",
       "     ‘.Random.seed’ for more information on R's random number\n",
       "     generation algorithms.\n",
       "\n",
       "_\bR_\be_\bf_\be_\br_\be_\bn_\bc_\be_\bs:\n",
       "\n",
       "     Becker, R. A., Chambers, J. M. and Wilks, A. R. (1988) _The New S\n",
       "     Language_.  Wadsworth & Brooks/Cole.\n",
       "\n",
       "_\bS_\be_\be _\bA_\bl_\bs_\bo:\n",
       "\n",
       "     ‘RNG’ about random number generation in R.\n",
       "\n",
       "     Distributions for other standard distributions.\n",
       "\n",
       "_\bE_\bx_\ba_\bm_\bp_\bl_\be_\bs:\n",
       "\n",
       "     u <- runif(20)\n",
       "     \n",
       "     ## The following relations always hold :\n",
       "     punif(u) == u\n",
       "     dunif(u) == 1\n",
       "     \n",
       "     var(runif(10000))  #- ~ = 1/12 = .08333\n",
       "     "
      ]
     },
     "metadata": {},
     "output_type": "display_data"
    }
   ],
   "source": [
    "?runif"
   ]
  },
  {
   "cell_type": "markdown",
   "id": "a2698634-aee6-4790-9067-9a70003b55cb",
   "metadata": {},
   "source": [
    "We don't have to use a uniform distribution. Actually, a normal distribution will be better. Let's do that instead."
   ]
  },
  {
   "cell_type": "code",
   "execution_count": 16,
   "id": "de4a1ed7-b9de-4d1c-aafb-f663ef593c78",
   "metadata": {},
   "outputs": [],
   "source": [
    "# how many numbers, mean/average, standard deviation\n",
    "weight1 <- rnorm(30, 60, 10)\n",
    "weight2 <- rnorm(30, 80, 10)"
   ]
  },
  {
   "cell_type": "markdown",
   "id": "96fb9a30-367e-403a-8058-24b0715b1611",
   "metadata": {},
   "source": [
    "A normal distribution is a symmetric, bell-shaped probability distribution characterized by its mean and standard deviation, where approximately 68% of the data falls within one standard deviation of the mean."
   ]
  },
  {
   "cell_type": "markdown",
   "id": "a1468e8b-d238-4885-9d26-4502e6da5308",
   "metadata": {},
   "source": [
    "We can also make lists of words. This can be useful if our variables are categorical. "
   ]
  },
  {
   "cell_type": "code",
   "execution_count": 17,
   "id": "70879df2-7725-443e-8208-c4954b30a138",
   "metadata": {},
   "outputs": [],
   "source": [
    "species1 <- rep(\"Deer\", 30)\n",
    "species2 <- rep(\"Reindeer\", 30)"
   ]
  },
  {
   "cell_type": "markdown",
   "id": "7198b1e8-6298-4fb9-a319-f7f2f723d725",
   "metadata": {},
   "source": [
    "We can also manipulate arrays. This can be necessary for tidying data, and getting it into the right format. We can for example append one array to another. We just use the c() function for this."
   ]
  },
  {
   "cell_type": "code",
   "execution_count": 20,
   "id": "750d9402-c1cc-4866-a00b-3f0e75dfe402",
   "metadata": {},
   "outputs": [
    {
     "data": {
      "text/html": [
       "<style>\n",
       ".list-inline {list-style: none; margin:0; padding: 0}\n",
       ".list-inline>li {display: inline-block}\n",
       ".list-inline>li:not(:last-child)::after {content: \"\\00b7\"; padding: 0 .5ex}\n",
       "</style>\n",
       "<ol class=list-inline><li>76.1805657980157</li><li>72.3508732556344</li><li>36.7165474795879</li><li>59.5327000707365</li><li>74.5567532128298</li><li>58.0135390227681</li><li>39.4049126110556</li><li>50.8825566229996</li><li>70.1825097546188</li><li>63.8564367466014</li><li>58.1059096969413</li><li>46.9007631995349</li><li>47.4650567223015</li><li>45.4882064792292</li><li>54.0447238763043</li><li>55.4436327148436</li><li>51.8960719103384</li><li>54.9793274352319</li><li>49.9531085126789</li><li>39.9909719115597</li><li>62.1946770536738</li><li>70.9128486688451</li><li>69.9834315453898</li><li>60.2115677253374</li><li>63.4029323968129</li><li>48.895588266972</li><li>61.9660132450522</li><li>53.30564764219</li><li>75.4046057160427</li><li>72.0924453038791</li><li>85.4230593990575</li><li>90.1494553898598</li><li>68.9899711498795</li><li>82.1487819492408</li><li>79.3328143884608</li><li>74.8702438512322</li><li>75.6502000346813</li><li>87.7201051105403</li><li>63.6243603990658</li><li>83.3490472703476</li><li>88.5680272397766</li><li>71.0715058027923</li><li>71.7940128083323</li><li>86.7554472481835</li><li>75.4670793999357</li><li>79.5515871395249</li><li>86.0337624786133</li><li>80.2671362681021</li><li>80.7811593122626</li><li>74.9139781064378</li><li>96.0199937553253</li><li>79.0335019400508</li><li>100.08833652796</li><li>94.0120305498762</li><li>79.4323375747842</li><li>86.7943839695596</li><li>80.4820601167872</li><li>69.5264394541985</li><li>93.4203461558276</li><li>92.3395073198017</li></ol>\n"
      ],
      "text/latex": [
       "\\begin{enumerate*}\n",
       "\\item 76.1805657980157\n",
       "\\item 72.3508732556344\n",
       "\\item 36.7165474795879\n",
       "\\item 59.5327000707365\n",
       "\\item 74.5567532128298\n",
       "\\item 58.0135390227681\n",
       "\\item 39.4049126110556\n",
       "\\item 50.8825566229996\n",
       "\\item 70.1825097546188\n",
       "\\item 63.8564367466014\n",
       "\\item 58.1059096969413\n",
       "\\item 46.9007631995349\n",
       "\\item 47.4650567223015\n",
       "\\item 45.4882064792292\n",
       "\\item 54.0447238763043\n",
       "\\item 55.4436327148436\n",
       "\\item 51.8960719103384\n",
       "\\item 54.9793274352319\n",
       "\\item 49.9531085126789\n",
       "\\item 39.9909719115597\n",
       "\\item 62.1946770536738\n",
       "\\item 70.9128486688451\n",
       "\\item 69.9834315453898\n",
       "\\item 60.2115677253374\n",
       "\\item 63.4029323968129\n",
       "\\item 48.895588266972\n",
       "\\item 61.9660132450522\n",
       "\\item 53.30564764219\n",
       "\\item 75.4046057160427\n",
       "\\item 72.0924453038791\n",
       "\\item 85.4230593990575\n",
       "\\item 90.1494553898598\n",
       "\\item 68.9899711498795\n",
       "\\item 82.1487819492408\n",
       "\\item 79.3328143884608\n",
       "\\item 74.8702438512322\n",
       "\\item 75.6502000346813\n",
       "\\item 87.7201051105403\n",
       "\\item 63.6243603990658\n",
       "\\item 83.3490472703476\n",
       "\\item 88.5680272397766\n",
       "\\item 71.0715058027923\n",
       "\\item 71.7940128083323\n",
       "\\item 86.7554472481835\n",
       "\\item 75.4670793999357\n",
       "\\item 79.5515871395249\n",
       "\\item 86.0337624786133\n",
       "\\item 80.2671362681021\n",
       "\\item 80.7811593122626\n",
       "\\item 74.9139781064378\n",
       "\\item 96.0199937553253\n",
       "\\item 79.0335019400508\n",
       "\\item 100.08833652796\n",
       "\\item 94.0120305498762\n",
       "\\item 79.4323375747842\n",
       "\\item 86.7943839695596\n",
       "\\item 80.4820601167872\n",
       "\\item 69.5264394541985\n",
       "\\item 93.4203461558276\n",
       "\\item 92.3395073198017\n",
       "\\end{enumerate*}\n"
      ],
      "text/markdown": [
       "1. 76.1805657980157\n",
       "2. 72.3508732556344\n",
       "3. 36.7165474795879\n",
       "4. 59.5327000707365\n",
       "5. 74.5567532128298\n",
       "6. 58.0135390227681\n",
       "7. 39.4049126110556\n",
       "8. 50.8825566229996\n",
       "9. 70.1825097546188\n",
       "10. 63.8564367466014\n",
       "11. 58.1059096969413\n",
       "12. 46.9007631995349\n",
       "13. 47.4650567223015\n",
       "14. 45.4882064792292\n",
       "15. 54.0447238763043\n",
       "16. 55.4436327148436\n",
       "17. 51.8960719103384\n",
       "18. 54.9793274352319\n",
       "19. 49.9531085126789\n",
       "20. 39.9909719115597\n",
       "21. 62.1946770536738\n",
       "22. 70.9128486688451\n",
       "23. 69.9834315453898\n",
       "24. 60.2115677253374\n",
       "25. 63.4029323968129\n",
       "26. 48.895588266972\n",
       "27. 61.9660132450522\n",
       "28. 53.30564764219\n",
       "29. 75.4046057160427\n",
       "30. 72.0924453038791\n",
       "31. 85.4230593990575\n",
       "32. 90.1494553898598\n",
       "33. 68.9899711498795\n",
       "34. 82.1487819492408\n",
       "35. 79.3328143884608\n",
       "36. 74.8702438512322\n",
       "37. 75.6502000346813\n",
       "38. 87.7201051105403\n",
       "39. 63.6243603990658\n",
       "40. 83.3490472703476\n",
       "41. 88.5680272397766\n",
       "42. 71.0715058027923\n",
       "43. 71.7940128083323\n",
       "44. 86.7554472481835\n",
       "45. 75.4670793999357\n",
       "46. 79.5515871395249\n",
       "47. 86.0337624786133\n",
       "48. 80.2671362681021\n",
       "49. 80.7811593122626\n",
       "50. 74.9139781064378\n",
       "51. 96.0199937553253\n",
       "52. 79.0335019400508\n",
       "53. 100.08833652796\n",
       "54. 94.0120305498762\n",
       "55. 79.4323375747842\n",
       "56. 86.7943839695596\n",
       "57. 80.4820601167872\n",
       "58. 69.5264394541985\n",
       "59. 93.4203461558276\n",
       "60. 92.3395073198017\n",
       "\n",
       "\n"
      ],
      "text/plain": [
       " [1]  76.18057  72.35087  36.71655  59.53270  74.55675  58.01354  39.40491\n",
       " [8]  50.88256  70.18251  63.85644  58.10591  46.90076  47.46506  45.48821\n",
       "[15]  54.04472  55.44363  51.89607  54.97933  49.95311  39.99097  62.19468\n",
       "[22]  70.91285  69.98343  60.21157  63.40293  48.89559  61.96601  53.30565\n",
       "[29]  75.40461  72.09245  85.42306  90.14946  68.98997  82.14878  79.33281\n",
       "[36]  74.87024  75.65020  87.72011  63.62436  83.34905  88.56803  71.07151\n",
       "[43]  71.79401  86.75545  75.46708  79.55159  86.03376  80.26714  80.78116\n",
       "[50]  74.91398  96.01999  79.03350 100.08834  94.01203  79.43234  86.79438\n",
       "[57]  80.48206  69.52644  93.42035  92.33951"
      ]
     },
     "metadata": {},
     "output_type": "display_data"
    }
   ],
   "source": [
    "Weight <- c(weight1, weight2)\n",
    "Species <- c(species1, species2)\n",
    "Weight"
   ]
  },
  {
   "cell_type": "markdown",
   "id": "987c336d-d560-4c57-9d87-eee75a342173",
   "metadata": {},
   "source": [
    "This gives us our weights and species as nice tidy data arrays. We can also organise our data into spreadsheets like excel. These are called data frames in R."
   ]
  },
  {
   "cell_type": "code",
   "execution_count": 21,
   "id": "03134980-2042-4ef6-92fa-930639259b9c",
   "metadata": {},
   "outputs": [],
   "source": [
    "DeerStudy <- data.frame(Weight, Species)"
   ]
  },
  {
   "cell_type": "markdown",
   "id": "21b1fbbc-a349-4d17-8452-81cec475d781",
   "metadata": {},
   "source": [
    "You can always take a look at the dataframe by calling it."
   ]
  },
  {
   "cell_type": "code",
   "execution_count": 22,
   "id": "024e2e50-5a68-49f5-8ca3-bf6271649f81",
   "metadata": {},
   "outputs": [
    {
     "data": {
      "text/html": [
       "<table class=\"dataframe\">\n",
       "<caption>A data.frame: 60 × 2</caption>\n",
       "<thead>\n",
       "\t<tr><th scope=col>Weight</th><th scope=col>Species</th></tr>\n",
       "\t<tr><th scope=col>&lt;dbl&gt;</th><th scope=col>&lt;chr&gt;</th></tr>\n",
       "</thead>\n",
       "<tbody>\n",
       "\t<tr><td> 76.18057</td><td>Deer    </td></tr>\n",
       "\t<tr><td> 72.35087</td><td>Deer    </td></tr>\n",
       "\t<tr><td> 36.71655</td><td>Deer    </td></tr>\n",
       "\t<tr><td> 59.53270</td><td>Deer    </td></tr>\n",
       "\t<tr><td> 74.55675</td><td>Deer    </td></tr>\n",
       "\t<tr><td> 58.01354</td><td>Deer    </td></tr>\n",
       "\t<tr><td> 39.40491</td><td>Deer    </td></tr>\n",
       "\t<tr><td> 50.88256</td><td>Deer    </td></tr>\n",
       "\t<tr><td> 70.18251</td><td>Deer    </td></tr>\n",
       "\t<tr><td> 63.85644</td><td>Deer    </td></tr>\n",
       "\t<tr><td> 58.10591</td><td>Deer    </td></tr>\n",
       "\t<tr><td> 46.90076</td><td>Deer    </td></tr>\n",
       "\t<tr><td> 47.46506</td><td>Deer    </td></tr>\n",
       "\t<tr><td> 45.48821</td><td>Deer    </td></tr>\n",
       "\t<tr><td> 54.04472</td><td>Deer    </td></tr>\n",
       "\t<tr><td> 55.44363</td><td>Deer    </td></tr>\n",
       "\t<tr><td> 51.89607</td><td>Deer    </td></tr>\n",
       "\t<tr><td> 54.97933</td><td>Deer    </td></tr>\n",
       "\t<tr><td> 49.95311</td><td>Deer    </td></tr>\n",
       "\t<tr><td> 39.99097</td><td>Deer    </td></tr>\n",
       "\t<tr><td> 62.19468</td><td>Deer    </td></tr>\n",
       "\t<tr><td> 70.91285</td><td>Deer    </td></tr>\n",
       "\t<tr><td> 69.98343</td><td>Deer    </td></tr>\n",
       "\t<tr><td> 60.21157</td><td>Deer    </td></tr>\n",
       "\t<tr><td> 63.40293</td><td>Deer    </td></tr>\n",
       "\t<tr><td> 48.89559</td><td>Deer    </td></tr>\n",
       "\t<tr><td> 61.96601</td><td>Deer    </td></tr>\n",
       "\t<tr><td> 53.30565</td><td>Deer    </td></tr>\n",
       "\t<tr><td> 75.40461</td><td>Deer    </td></tr>\n",
       "\t<tr><td> 72.09245</td><td>Deer    </td></tr>\n",
       "\t<tr><td> 85.42306</td><td>Reindeer</td></tr>\n",
       "\t<tr><td> 90.14946</td><td>Reindeer</td></tr>\n",
       "\t<tr><td> 68.98997</td><td>Reindeer</td></tr>\n",
       "\t<tr><td> 82.14878</td><td>Reindeer</td></tr>\n",
       "\t<tr><td> 79.33281</td><td>Reindeer</td></tr>\n",
       "\t<tr><td> 74.87024</td><td>Reindeer</td></tr>\n",
       "\t<tr><td> 75.65020</td><td>Reindeer</td></tr>\n",
       "\t<tr><td> 87.72011</td><td>Reindeer</td></tr>\n",
       "\t<tr><td> 63.62436</td><td>Reindeer</td></tr>\n",
       "\t<tr><td> 83.34905</td><td>Reindeer</td></tr>\n",
       "\t<tr><td> 88.56803</td><td>Reindeer</td></tr>\n",
       "\t<tr><td> 71.07151</td><td>Reindeer</td></tr>\n",
       "\t<tr><td> 71.79401</td><td>Reindeer</td></tr>\n",
       "\t<tr><td> 86.75545</td><td>Reindeer</td></tr>\n",
       "\t<tr><td> 75.46708</td><td>Reindeer</td></tr>\n",
       "\t<tr><td> 79.55159</td><td>Reindeer</td></tr>\n",
       "\t<tr><td> 86.03376</td><td>Reindeer</td></tr>\n",
       "\t<tr><td> 80.26714</td><td>Reindeer</td></tr>\n",
       "\t<tr><td> 80.78116</td><td>Reindeer</td></tr>\n",
       "\t<tr><td> 74.91398</td><td>Reindeer</td></tr>\n",
       "\t<tr><td> 96.01999</td><td>Reindeer</td></tr>\n",
       "\t<tr><td> 79.03350</td><td>Reindeer</td></tr>\n",
       "\t<tr><td>100.08834</td><td>Reindeer</td></tr>\n",
       "\t<tr><td> 94.01203</td><td>Reindeer</td></tr>\n",
       "\t<tr><td> 79.43234</td><td>Reindeer</td></tr>\n",
       "\t<tr><td> 86.79438</td><td>Reindeer</td></tr>\n",
       "\t<tr><td> 80.48206</td><td>Reindeer</td></tr>\n",
       "\t<tr><td> 69.52644</td><td>Reindeer</td></tr>\n",
       "\t<tr><td> 93.42035</td><td>Reindeer</td></tr>\n",
       "\t<tr><td> 92.33951</td><td>Reindeer</td></tr>\n",
       "</tbody>\n",
       "</table>\n"
      ],
      "text/latex": [
       "A data.frame: 60 × 2\n",
       "\\begin{tabular}{ll}\n",
       " Weight & Species\\\\\n",
       " <dbl> & <chr>\\\\\n",
       "\\hline\n",
       "\t  76.18057 & Deer    \\\\\n",
       "\t  72.35087 & Deer    \\\\\n",
       "\t  36.71655 & Deer    \\\\\n",
       "\t  59.53270 & Deer    \\\\\n",
       "\t  74.55675 & Deer    \\\\\n",
       "\t  58.01354 & Deer    \\\\\n",
       "\t  39.40491 & Deer    \\\\\n",
       "\t  50.88256 & Deer    \\\\\n",
       "\t  70.18251 & Deer    \\\\\n",
       "\t  63.85644 & Deer    \\\\\n",
       "\t  58.10591 & Deer    \\\\\n",
       "\t  46.90076 & Deer    \\\\\n",
       "\t  47.46506 & Deer    \\\\\n",
       "\t  45.48821 & Deer    \\\\\n",
       "\t  54.04472 & Deer    \\\\\n",
       "\t  55.44363 & Deer    \\\\\n",
       "\t  51.89607 & Deer    \\\\\n",
       "\t  54.97933 & Deer    \\\\\n",
       "\t  49.95311 & Deer    \\\\\n",
       "\t  39.99097 & Deer    \\\\\n",
       "\t  62.19468 & Deer    \\\\\n",
       "\t  70.91285 & Deer    \\\\\n",
       "\t  69.98343 & Deer    \\\\\n",
       "\t  60.21157 & Deer    \\\\\n",
       "\t  63.40293 & Deer    \\\\\n",
       "\t  48.89559 & Deer    \\\\\n",
       "\t  61.96601 & Deer    \\\\\n",
       "\t  53.30565 & Deer    \\\\\n",
       "\t  75.40461 & Deer    \\\\\n",
       "\t  72.09245 & Deer    \\\\\n",
       "\t  85.42306 & Reindeer\\\\\n",
       "\t  90.14946 & Reindeer\\\\\n",
       "\t  68.98997 & Reindeer\\\\\n",
       "\t  82.14878 & Reindeer\\\\\n",
       "\t  79.33281 & Reindeer\\\\\n",
       "\t  74.87024 & Reindeer\\\\\n",
       "\t  75.65020 & Reindeer\\\\\n",
       "\t  87.72011 & Reindeer\\\\\n",
       "\t  63.62436 & Reindeer\\\\\n",
       "\t  83.34905 & Reindeer\\\\\n",
       "\t  88.56803 & Reindeer\\\\\n",
       "\t  71.07151 & Reindeer\\\\\n",
       "\t  71.79401 & Reindeer\\\\\n",
       "\t  86.75545 & Reindeer\\\\\n",
       "\t  75.46708 & Reindeer\\\\\n",
       "\t  79.55159 & Reindeer\\\\\n",
       "\t  86.03376 & Reindeer\\\\\n",
       "\t  80.26714 & Reindeer\\\\\n",
       "\t  80.78116 & Reindeer\\\\\n",
       "\t  74.91398 & Reindeer\\\\\n",
       "\t  96.01999 & Reindeer\\\\\n",
       "\t  79.03350 & Reindeer\\\\\n",
       "\t 100.08834 & Reindeer\\\\\n",
       "\t  94.01203 & Reindeer\\\\\n",
       "\t  79.43234 & Reindeer\\\\\n",
       "\t  86.79438 & Reindeer\\\\\n",
       "\t  80.48206 & Reindeer\\\\\n",
       "\t  69.52644 & Reindeer\\\\\n",
       "\t  93.42035 & Reindeer\\\\\n",
       "\t  92.33951 & Reindeer\\\\\n",
       "\\end{tabular}\n"
      ],
      "text/markdown": [
       "\n",
       "A data.frame: 60 × 2\n",
       "\n",
       "| Weight &lt;dbl&gt; | Species &lt;chr&gt; |\n",
       "|---|---|\n",
       "|  76.18057 | Deer     |\n",
       "|  72.35087 | Deer     |\n",
       "|  36.71655 | Deer     |\n",
       "|  59.53270 | Deer     |\n",
       "|  74.55675 | Deer     |\n",
       "|  58.01354 | Deer     |\n",
       "|  39.40491 | Deer     |\n",
       "|  50.88256 | Deer     |\n",
       "|  70.18251 | Deer     |\n",
       "|  63.85644 | Deer     |\n",
       "|  58.10591 | Deer     |\n",
       "|  46.90076 | Deer     |\n",
       "|  47.46506 | Deer     |\n",
       "|  45.48821 | Deer     |\n",
       "|  54.04472 | Deer     |\n",
       "|  55.44363 | Deer     |\n",
       "|  51.89607 | Deer     |\n",
       "|  54.97933 | Deer     |\n",
       "|  49.95311 | Deer     |\n",
       "|  39.99097 | Deer     |\n",
       "|  62.19468 | Deer     |\n",
       "|  70.91285 | Deer     |\n",
       "|  69.98343 | Deer     |\n",
       "|  60.21157 | Deer     |\n",
       "|  63.40293 | Deer     |\n",
       "|  48.89559 | Deer     |\n",
       "|  61.96601 | Deer     |\n",
       "|  53.30565 | Deer     |\n",
       "|  75.40461 | Deer     |\n",
       "|  72.09245 | Deer     |\n",
       "|  85.42306 | Reindeer |\n",
       "|  90.14946 | Reindeer |\n",
       "|  68.98997 | Reindeer |\n",
       "|  82.14878 | Reindeer |\n",
       "|  79.33281 | Reindeer |\n",
       "|  74.87024 | Reindeer |\n",
       "|  75.65020 | Reindeer |\n",
       "|  87.72011 | Reindeer |\n",
       "|  63.62436 | Reindeer |\n",
       "|  83.34905 | Reindeer |\n",
       "|  88.56803 | Reindeer |\n",
       "|  71.07151 | Reindeer |\n",
       "|  71.79401 | Reindeer |\n",
       "|  86.75545 | Reindeer |\n",
       "|  75.46708 | Reindeer |\n",
       "|  79.55159 | Reindeer |\n",
       "|  86.03376 | Reindeer |\n",
       "|  80.26714 | Reindeer |\n",
       "|  80.78116 | Reindeer |\n",
       "|  74.91398 | Reindeer |\n",
       "|  96.01999 | Reindeer |\n",
       "|  79.03350 | Reindeer |\n",
       "| 100.08834 | Reindeer |\n",
       "|  94.01203 | Reindeer |\n",
       "|  79.43234 | Reindeer |\n",
       "|  86.79438 | Reindeer |\n",
       "|  80.48206 | Reindeer |\n",
       "|  69.52644 | Reindeer |\n",
       "|  93.42035 | Reindeer |\n",
       "|  92.33951 | Reindeer |\n",
       "\n"
      ],
      "text/plain": [
       "   Weight    Species \n",
       "1   76.18057 Deer    \n",
       "2   72.35087 Deer    \n",
       "3   36.71655 Deer    \n",
       "4   59.53270 Deer    \n",
       "5   74.55675 Deer    \n",
       "6   58.01354 Deer    \n",
       "7   39.40491 Deer    \n",
       "8   50.88256 Deer    \n",
       "9   70.18251 Deer    \n",
       "10  63.85644 Deer    \n",
       "11  58.10591 Deer    \n",
       "12  46.90076 Deer    \n",
       "13  47.46506 Deer    \n",
       "14  45.48821 Deer    \n",
       "15  54.04472 Deer    \n",
       "16  55.44363 Deer    \n",
       "17  51.89607 Deer    \n",
       "18  54.97933 Deer    \n",
       "19  49.95311 Deer    \n",
       "20  39.99097 Deer    \n",
       "21  62.19468 Deer    \n",
       "22  70.91285 Deer    \n",
       "23  69.98343 Deer    \n",
       "24  60.21157 Deer    \n",
       "25  63.40293 Deer    \n",
       "26  48.89559 Deer    \n",
       "27  61.96601 Deer    \n",
       "28  53.30565 Deer    \n",
       "29  75.40461 Deer    \n",
       "30  72.09245 Deer    \n",
       "31  85.42306 Reindeer\n",
       "32  90.14946 Reindeer\n",
       "33  68.98997 Reindeer\n",
       "34  82.14878 Reindeer\n",
       "35  79.33281 Reindeer\n",
       "36  74.87024 Reindeer\n",
       "37  75.65020 Reindeer\n",
       "38  87.72011 Reindeer\n",
       "39  63.62436 Reindeer\n",
       "40  83.34905 Reindeer\n",
       "41  88.56803 Reindeer\n",
       "42  71.07151 Reindeer\n",
       "43  71.79401 Reindeer\n",
       "44  86.75545 Reindeer\n",
       "45  75.46708 Reindeer\n",
       "46  79.55159 Reindeer\n",
       "47  86.03376 Reindeer\n",
       "48  80.26714 Reindeer\n",
       "49  80.78116 Reindeer\n",
       "50  74.91398 Reindeer\n",
       "51  96.01999 Reindeer\n",
       "52  79.03350 Reindeer\n",
       "53 100.08834 Reindeer\n",
       "54  94.01203 Reindeer\n",
       "55  79.43234 Reindeer\n",
       "56  86.79438 Reindeer\n",
       "57  80.48206 Reindeer\n",
       "58  69.52644 Reindeer\n",
       "59  93.42035 Reindeer\n",
       "60  92.33951 Reindeer"
      ]
     },
     "metadata": {},
     "output_type": "display_data"
    }
   ],
   "source": [
    "DeerStudy"
   ]
  },
  {
   "cell_type": "markdown",
   "id": "9311c1ee-e60f-46b7-a56a-1e15095e59bc",
   "metadata": {},
   "source": [
    "We can look at just the top of this spreadsheet."
   ]
  },
  {
   "cell_type": "code",
   "execution_count": 23,
   "id": "10d529da-ef20-41b9-9ec7-908d2f6a4b69",
   "metadata": {},
   "outputs": [
    {
     "data": {
      "text/html": [
       "<table class=\"dataframe\">\n",
       "<caption>A data.frame: 6 × 2</caption>\n",
       "<thead>\n",
       "\t<tr><th></th><th scope=col>Weight</th><th scope=col>Species</th></tr>\n",
       "\t<tr><th></th><th scope=col>&lt;dbl&gt;</th><th scope=col>&lt;chr&gt;</th></tr>\n",
       "</thead>\n",
       "<tbody>\n",
       "\t<tr><th scope=row>1</th><td>76.18057</td><td>Deer</td></tr>\n",
       "\t<tr><th scope=row>2</th><td>72.35087</td><td>Deer</td></tr>\n",
       "\t<tr><th scope=row>3</th><td>36.71655</td><td>Deer</td></tr>\n",
       "\t<tr><th scope=row>4</th><td>59.53270</td><td>Deer</td></tr>\n",
       "\t<tr><th scope=row>5</th><td>74.55675</td><td>Deer</td></tr>\n",
       "\t<tr><th scope=row>6</th><td>58.01354</td><td>Deer</td></tr>\n",
       "</tbody>\n",
       "</table>\n"
      ],
      "text/latex": [
       "A data.frame: 6 × 2\n",
       "\\begin{tabular}{r|ll}\n",
       "  & Weight & Species\\\\\n",
       "  & <dbl> & <chr>\\\\\n",
       "\\hline\n",
       "\t1 & 76.18057 & Deer\\\\\n",
       "\t2 & 72.35087 & Deer\\\\\n",
       "\t3 & 36.71655 & Deer\\\\\n",
       "\t4 & 59.53270 & Deer\\\\\n",
       "\t5 & 74.55675 & Deer\\\\\n",
       "\t6 & 58.01354 & Deer\\\\\n",
       "\\end{tabular}\n"
      ],
      "text/markdown": [
       "\n",
       "A data.frame: 6 × 2\n",
       "\n",
       "| <!--/--> | Weight &lt;dbl&gt; | Species &lt;chr&gt; |\n",
       "|---|---|---|\n",
       "| 1 | 76.18057 | Deer |\n",
       "| 2 | 72.35087 | Deer |\n",
       "| 3 | 36.71655 | Deer |\n",
       "| 4 | 59.53270 | Deer |\n",
       "| 5 | 74.55675 | Deer |\n",
       "| 6 | 58.01354 | Deer |\n",
       "\n"
      ],
      "text/plain": [
       "  Weight   Species\n",
       "1 76.18057 Deer   \n",
       "2 72.35087 Deer   \n",
       "3 36.71655 Deer   \n",
       "4 59.53270 Deer   \n",
       "5 74.55675 Deer   \n",
       "6 58.01354 Deer   "
      ]
     },
     "metadata": {},
     "output_type": "display_data"
    }
   ],
   "source": [
    "head(DeerStudy)"
   ]
  },
  {
   "cell_type": "markdown",
   "id": "21dea1b3-09c3-40f1-91d0-896897eebb3b",
   "metadata": {},
   "source": [
    "We can also pick out specific variables to do stuff to. We use the '$' for this."
   ]
  },
  {
   "cell_type": "code",
   "execution_count": 24,
   "id": "eb8f3359-f073-4ba3-9ac2-0fa26f38e133",
   "metadata": {},
   "outputs": [
    {
     "data": {
      "text/html": [
       "<style>\n",
       ".list-inline {list-style: none; margin:0; padding: 0}\n",
       ".list-inline>li {display: inline-block}\n",
       ".list-inline>li:not(:last-child)::after {content: \"\\00b7\"; padding: 0 .5ex}\n",
       "</style>\n",
       "<ol class=list-inline><li>'Deer'</li><li>'Deer'</li><li>'Deer'</li><li>'Deer'</li><li>'Deer'</li><li>'Deer'</li><li>'Deer'</li><li>'Deer'</li><li>'Deer'</li><li>'Deer'</li><li>'Deer'</li><li>'Deer'</li><li>'Deer'</li><li>'Deer'</li><li>'Deer'</li><li>'Deer'</li><li>'Deer'</li><li>'Deer'</li><li>'Deer'</li><li>'Deer'</li><li>'Deer'</li><li>'Deer'</li><li>'Deer'</li><li>'Deer'</li><li>'Deer'</li><li>'Deer'</li><li>'Deer'</li><li>'Deer'</li><li>'Deer'</li><li>'Deer'</li><li>'Reindeer'</li><li>'Reindeer'</li><li>'Reindeer'</li><li>'Reindeer'</li><li>'Reindeer'</li><li>'Reindeer'</li><li>'Reindeer'</li><li>'Reindeer'</li><li>'Reindeer'</li><li>'Reindeer'</li><li>'Reindeer'</li><li>'Reindeer'</li><li>'Reindeer'</li><li>'Reindeer'</li><li>'Reindeer'</li><li>'Reindeer'</li><li>'Reindeer'</li><li>'Reindeer'</li><li>'Reindeer'</li><li>'Reindeer'</li><li>'Reindeer'</li><li>'Reindeer'</li><li>'Reindeer'</li><li>'Reindeer'</li><li>'Reindeer'</li><li>'Reindeer'</li><li>'Reindeer'</li><li>'Reindeer'</li><li>'Reindeer'</li><li>'Reindeer'</li></ol>\n"
      ],
      "text/latex": [
       "\\begin{enumerate*}\n",
       "\\item 'Deer'\n",
       "\\item 'Deer'\n",
       "\\item 'Deer'\n",
       "\\item 'Deer'\n",
       "\\item 'Deer'\n",
       "\\item 'Deer'\n",
       "\\item 'Deer'\n",
       "\\item 'Deer'\n",
       "\\item 'Deer'\n",
       "\\item 'Deer'\n",
       "\\item 'Deer'\n",
       "\\item 'Deer'\n",
       "\\item 'Deer'\n",
       "\\item 'Deer'\n",
       "\\item 'Deer'\n",
       "\\item 'Deer'\n",
       "\\item 'Deer'\n",
       "\\item 'Deer'\n",
       "\\item 'Deer'\n",
       "\\item 'Deer'\n",
       "\\item 'Deer'\n",
       "\\item 'Deer'\n",
       "\\item 'Deer'\n",
       "\\item 'Deer'\n",
       "\\item 'Deer'\n",
       "\\item 'Deer'\n",
       "\\item 'Deer'\n",
       "\\item 'Deer'\n",
       "\\item 'Deer'\n",
       "\\item 'Deer'\n",
       "\\item 'Reindeer'\n",
       "\\item 'Reindeer'\n",
       "\\item 'Reindeer'\n",
       "\\item 'Reindeer'\n",
       "\\item 'Reindeer'\n",
       "\\item 'Reindeer'\n",
       "\\item 'Reindeer'\n",
       "\\item 'Reindeer'\n",
       "\\item 'Reindeer'\n",
       "\\item 'Reindeer'\n",
       "\\item 'Reindeer'\n",
       "\\item 'Reindeer'\n",
       "\\item 'Reindeer'\n",
       "\\item 'Reindeer'\n",
       "\\item 'Reindeer'\n",
       "\\item 'Reindeer'\n",
       "\\item 'Reindeer'\n",
       "\\item 'Reindeer'\n",
       "\\item 'Reindeer'\n",
       "\\item 'Reindeer'\n",
       "\\item 'Reindeer'\n",
       "\\item 'Reindeer'\n",
       "\\item 'Reindeer'\n",
       "\\item 'Reindeer'\n",
       "\\item 'Reindeer'\n",
       "\\item 'Reindeer'\n",
       "\\item 'Reindeer'\n",
       "\\item 'Reindeer'\n",
       "\\item 'Reindeer'\n",
       "\\item 'Reindeer'\n",
       "\\end{enumerate*}\n"
      ],
      "text/markdown": [
       "1. 'Deer'\n",
       "2. 'Deer'\n",
       "3. 'Deer'\n",
       "4. 'Deer'\n",
       "5. 'Deer'\n",
       "6. 'Deer'\n",
       "7. 'Deer'\n",
       "8. 'Deer'\n",
       "9. 'Deer'\n",
       "10. 'Deer'\n",
       "11. 'Deer'\n",
       "12. 'Deer'\n",
       "13. 'Deer'\n",
       "14. 'Deer'\n",
       "15. 'Deer'\n",
       "16. 'Deer'\n",
       "17. 'Deer'\n",
       "18. 'Deer'\n",
       "19. 'Deer'\n",
       "20. 'Deer'\n",
       "21. 'Deer'\n",
       "22. 'Deer'\n",
       "23. 'Deer'\n",
       "24. 'Deer'\n",
       "25. 'Deer'\n",
       "26. 'Deer'\n",
       "27. 'Deer'\n",
       "28. 'Deer'\n",
       "29. 'Deer'\n",
       "30. 'Deer'\n",
       "31. 'Reindeer'\n",
       "32. 'Reindeer'\n",
       "33. 'Reindeer'\n",
       "34. 'Reindeer'\n",
       "35. 'Reindeer'\n",
       "36. 'Reindeer'\n",
       "37. 'Reindeer'\n",
       "38. 'Reindeer'\n",
       "39. 'Reindeer'\n",
       "40. 'Reindeer'\n",
       "41. 'Reindeer'\n",
       "42. 'Reindeer'\n",
       "43. 'Reindeer'\n",
       "44. 'Reindeer'\n",
       "45. 'Reindeer'\n",
       "46. 'Reindeer'\n",
       "47. 'Reindeer'\n",
       "48. 'Reindeer'\n",
       "49. 'Reindeer'\n",
       "50. 'Reindeer'\n",
       "51. 'Reindeer'\n",
       "52. 'Reindeer'\n",
       "53. 'Reindeer'\n",
       "54. 'Reindeer'\n",
       "55. 'Reindeer'\n",
       "56. 'Reindeer'\n",
       "57. 'Reindeer'\n",
       "58. 'Reindeer'\n",
       "59. 'Reindeer'\n",
       "60. 'Reindeer'\n",
       "\n",
       "\n"
      ],
      "text/plain": [
       " [1] \"Deer\"     \"Deer\"     \"Deer\"     \"Deer\"     \"Deer\"     \"Deer\"    \n",
       " [7] \"Deer\"     \"Deer\"     \"Deer\"     \"Deer\"     \"Deer\"     \"Deer\"    \n",
       "[13] \"Deer\"     \"Deer\"     \"Deer\"     \"Deer\"     \"Deer\"     \"Deer\"    \n",
       "[19] \"Deer\"     \"Deer\"     \"Deer\"     \"Deer\"     \"Deer\"     \"Deer\"    \n",
       "[25] \"Deer\"     \"Deer\"     \"Deer\"     \"Deer\"     \"Deer\"     \"Deer\"    \n",
       "[31] \"Reindeer\" \"Reindeer\" \"Reindeer\" \"Reindeer\" \"Reindeer\" \"Reindeer\"\n",
       "[37] \"Reindeer\" \"Reindeer\" \"Reindeer\" \"Reindeer\" \"Reindeer\" \"Reindeer\"\n",
       "[43] \"Reindeer\" \"Reindeer\" \"Reindeer\" \"Reindeer\" \"Reindeer\" \"Reindeer\"\n",
       "[49] \"Reindeer\" \"Reindeer\" \"Reindeer\" \"Reindeer\" \"Reindeer\" \"Reindeer\"\n",
       "[55] \"Reindeer\" \"Reindeer\" \"Reindeer\" \"Reindeer\" \"Reindeer\" \"Reindeer\""
      ]
     },
     "metadata": {},
     "output_type": "display_data"
    }
   ],
   "source": [
    "DeerStudy$Species"
   ]
  },
  {
   "cell_type": "markdown",
   "id": "fdc5873a-36a7-4862-9640-213902b19a78",
   "metadata": {},
   "source": [
    "We can also save our spreadsheet."
   ]
  },
  {
   "cell_type": "code",
   "execution_count": 26,
   "id": "7f598794-26c4-4f25-a274-049e1b5e5838",
   "metadata": {},
   "outputs": [],
   "source": [
    "save(DeerStudy, file = \"DeerStudy.RData\")"
   ]
  },
  {
   "cell_type": "markdown",
   "id": "372cb28c-dcc1-470f-af05-d0cc651d1b5e",
   "metadata": {},
   "source": [
    "# Part 3 - Basic plotting"
   ]
  },
  {
   "cell_type": "markdown",
   "id": "183f8f30-0e1f-45de-9999-f9b31e06b85a",
   "metadata": {},
   "source": [
    "Plotting is very important. It allows you to see relationships between variables. There are different kinds of plots that are useful for different kinds of relationships."
   ]
  },
  {
   "cell_type": "markdown",
   "id": "a17a5ec9-1a42-4ba2-bc41-15632b56468f",
   "metadata": {},
   "source": [
    "If you want to plot something very quickly, base R (when you don't download any extra packages) has some great options."
   ]
  },
  {
   "cell_type": "markdown",
   "id": "4e3d1012-0552-4e5a-9ad6-668825b31d60",
   "metadata": {},
   "source": [
    "To visualize the relationship between two continuous variables, you can use a scatterplot..."
   ]
  },
  {
   "cell_type": "code",
   "execution_count": 27,
   "id": "6d67b8a1-6a17-4e49-854e-a063fcf50a6f",
   "metadata": {},
   "outputs": [
    {
     "data": {
      "image/png": "[encoded data removed]",
      "text/plain": [
       "plot without title"
      ]
     },
     "metadata": {
      "image/png": {
       "height": 420,
       "width": 420
      }
     },
     "output_type": "display_data"
    }
   ],
   "source": [
    "plot(A, C)\n",
    "#x først, så y"
   ]
  },
  {
   "cell_type": "code",
   "execution_count": 28,
   "id": "40ad0a16-c32f-4e96-b971-40cc6fb17f16",
   "metadata": {},
   "outputs": [
    {
     "data": {
      "image/png": "[encoded data removed]",
      "text/plain": [
       "plot without title"
      ]
     },
     "metadata": {
      "image/png": {
       "height": 420,
       "width": 420
      }
     },
     "output_type": "display_data"
    }
   ],
   "source": [
    "plot(C~A)\n",
    "#y først, så x"
   ]
  },
  {
   "cell_type": "markdown",
   "id": "2f4bd725-a55b-4052-bcbe-09e8c8e6b49b",
   "metadata": {},
   "source": [
    "... while boxplots tell you the relationship between categorical and continuous variables."
   ]
  },
  {
   "cell_type": "code",
   "execution_count": 29,
   "id": "544e77c0-1f05-4b15-9a01-97b2bfb32bd9",
   "metadata": {},
   "outputs": [
    {
     "data": {
      "image/png": "[encoded data removed]",
      "text/plain": [
       "plot without title"
      ]
     },
     "metadata": {
      "image/png": {
       "height": 420,
       "width": 420
      }
     },
     "output_type": "display_data"
    }
   ],
   "source": [
    "boxplot(Weight~Species)"
   ]
  },
  {
   "cell_type": "markdown",
   "id": "8a26b67a-2d29-4b1e-a4f7-a09c4fc99c95",
   "metadata": {},
   "source": [
    "The tilde \"~\" is important in R. It can be read to mean \"as a function of\", or \"distributed as\". You will see it again, and you will get used to it. This little syntactic difference is important, because it can allow us to make the same plot using different kinds of data structures. "
   ]
  },
  {
   "cell_type": "markdown",
   "id": "b69a4905-15de-4f77-8805-a12905fb2b9a",
   "metadata": {},
   "source": [
    "These plots are a bit ugly. Even base R can make beautiful plots, you can look at options to fancy plots up using the ?plot command."
   ]
  },
  {
   "cell_type": "markdown",
   "id": "45533359-55d9-494b-967b-d555b3ad2206",
   "metadata": {},
   "source": [
    "A lot of the R community uses a package called ggplot2 to plot. It is very well-documented online and has a lot of options for customization. Packages are like modules in Python. We'll talk a bit more about packages next class. For now, let's just install and load:"
   ]
  },
  {
   "cell_type": "code",
   "execution_count": 31,
   "id": "aabd77ff-acd8-409a-980d-67b97ef71e7d",
   "metadata": {
    "scrolled": true
   },
   "outputs": [
    {
     "name": "stderr",
     "output_type": "stream",
     "text": [
      "Installing package into ‘/usr/local/spark-3.5.2-bin-hadoop3/R/lib’\n",
      "(as ‘lib’ is unspecified)\n",
      "\n",
      "Installing package into ‘/usr/local/spark-3.5.2-bin-hadoop3/R/lib’\n",
      "(as ‘lib’ is unspecified)\n",
      "\n"
     ]
    }
   ],
   "source": [
    "install.packages(\"dplyr\")\n",
    "install.packages(\"ggplot2\")"
   ]
  },
  {
   "cell_type": "code",
   "execution_count": 32,
   "id": "f75d56cf-57b3-4789-b072-11a88be731f0",
   "metadata": {},
   "outputs": [
    {
     "name": "stderr",
     "output_type": "stream",
     "text": [
      "\n",
      "Attaching package: ‘dplyr’\n",
      "\n",
      "\n",
      "The following objects are masked from ‘package:stats’:\n",
      "\n",
      "    filter, lag\n",
      "\n",
      "\n",
      "The following objects are masked from ‘package:base’:\n",
      "\n",
      "    intersect, setdiff, setequal, union\n",
      "\n",
      "\n"
     ]
    }
   ],
   "source": [
    "library(ggplot2)\n",
    "library(dplyr)"
   ]
  },
  {
   "cell_type": "code",
   "execution_count": 33,
   "id": "a3a9cf28-9973-42ef-bfd7-a0c82dacb1e3",
   "metadata": {},
   "outputs": [
    {
     "data": {
      "image/png": "[encoded data removed]",
      "text/plain": [
       "plot without title"
      ]
     },
     "metadata": {
      "image/png": {
       "height": 420,
       "width": 420
      }
     },
     "output_type": "display_data"
    }
   ],
   "source": [
    "ggplot(DeerStudy, \n",
    "       aes(x = Species,\n",
    "           y = Weight)) + \n",
    "    geom_boxplot()"
   ]
  },
  {
   "cell_type": "markdown",
   "id": "8d84d33e-8796-44de-96b1-4b752be7fc62",
   "metadata": {},
   "source": [
    "ggplot2 is a very modular way of plotting. You give commands in a sequential order, and the output of one command is passed to the command with a '+' operator."
   ]
  },
  {
   "cell_type": "markdown",
   "id": "910c3e21-f8d0-43aa-98aa-61c7882eef3c",
   "metadata": {},
   "source": [
    "The first block (before the + sign) specifies the data we want to use and how we want to use it. Using + signs, we can add extra options, for example the style of plot. You can really go crazy with the customizations!"
   ]
  },
  {
   "cell_type": "code",
   "execution_count": 41,
   "id": "316dd5c9-f806-4a97-b37e-7445f65b6d30",
   "metadata": {},
   "outputs": [
    {
     "data": {
      "image/png": "[encoded data removed]",
      "text/plain": [
       "plot without title"
      ]
     },
     "metadata": {
      "image/png": {
       "height": 420,
       "width": 420
      }
     },
     "output_type": "display_data"
    }
   ],
   "source": [
    "ggplot(DeerStudy,\n",
    "       aes(x = Species,\n",
    "           y = Weight,\n",
    "           fill = Species)) +\n",
    "    geom_boxplot() +\n",
    "    scale_fill_manual(values = c(\"gold\", \"darkgreen\")) +\n",
    "    labs(title = \"Deer weight\",\n",
    "         x = \"Species\",\n",
    "         y = \"Weight (kg)\") +\n",
    "    theme_minimal()"
   ]
  },
  {
   "cell_type": "markdown",
   "id": "9295e5bb-1c71-4831-88f5-75d2166b2a01",
   "metadata": {},
   "source": [
    "There are several excellent resources for learning about ggplot2. Try to play around with them. For example: https://rstudio.github.io/cheatsheets/html/data-visualization.html"
   ]
  },
  {
   "cell_type": "markdown",
   "id": "3da06e77-614e-42da-b9cf-157a7fea72e3",
   "metadata": {},
   "source": [
    "You have encountered some basic plotting functions in R. You have learned the tilde operator. You have learned how to search the help documentation."
   ]
  },
  {
   "cell_type": "markdown",
   "id": "66fb8cb2-317b-4a2a-948d-8e449fc2651b",
   "metadata": {},
   "source": [
    "# Part 4 - Indexing and basic statistics"
   ]
  },
  {
   "cell_type": "markdown",
   "id": "50f48782-ca8d-435f-af20-6f01228c3a50",
   "metadata": {},
   "source": [
    "R is a statistical language, and so it has functions for running statistical operations and models."
   ]
  },
  {
   "cell_type": "markdown",
   "id": "3e477b15-ea0e-4643-8566-17f0a08d0dfc",
   "metadata": {},
   "source": [
    "We can calculate the average a of variable:"
   ]
  },
  {
   "cell_type": "code",
   "execution_count": 42,
   "id": "a6604c10-f68e-47fc-bed9-23bf9517abc6",
   "metadata": {},
   "outputs": [
    {
     "data": {
      "text/html": [
       "70.0320932784751"
      ],
      "text/latex": [
       "70.0320932784751"
      ],
      "text/markdown": [
       "70.0320932784751"
      ],
      "text/plain": [
       "[1] 70.03209"
      ]
     },
     "metadata": {},
     "output_type": "display_data"
    }
   ],
   "source": [
    "mean(Weight)"
   ]
  },
  {
   "cell_type": "markdown",
   "id": "1d89257f-15ce-43ed-8f06-2d3d27661a62",
   "metadata": {},
   "source": [
    "Sometimes we are interested in sorting or carving our data up, and doing stats on a part of it. We can use indexing for this. For example, we might just want the average of each species in our study"
   ]
  },
  {
   "cell_type": "markdown",
   "id": "a56ecdb1-3f3e-466a-ba70-f9c324648a89",
   "metadata": {},
   "source": [
    "Let's look at how to extract weights for either just the Deers or the Reindeers in our study"
   ]
  },
  {
   "cell_type": "code",
   "execution_count": 43,
   "id": "9facde6b-0bcf-4f3f-8c63-21dd37d7b64d",
   "metadata": {},
   "outputs": [
    {
     "data": {
      "text/html": [
       "<style>\n",
       ".list-inline {list-style: none; margin:0; padding: 0}\n",
       ".list-inline>li {display: inline-block}\n",
       ".list-inline>li:not(:last-child)::after {content: \"\\00b7\"; padding: 0 .5ex}\n",
       "</style>\n",
       "<ol class=list-inline><li>76.1805657980157</li><li>72.3508732556344</li><li>36.7165474795879</li><li>59.5327000707365</li><li>74.5567532128298</li><li>58.0135390227681</li><li>39.4049126110556</li><li>50.8825566229996</li><li>70.1825097546188</li><li>63.8564367466014</li><li>58.1059096969413</li><li>46.9007631995349</li><li>47.4650567223015</li><li>45.4882064792292</li><li>54.0447238763043</li><li>55.4436327148436</li><li>51.8960719103384</li><li>54.9793274352319</li><li>49.9531085126789</li><li>39.9909719115597</li><li>62.1946770536738</li><li>70.9128486688451</li><li>69.9834315453898</li><li>60.2115677253374</li><li>63.4029323968129</li><li>48.895588266972</li><li>61.9660132450522</li><li>53.30564764219</li><li>75.4046057160427</li><li>72.0924453038791</li></ol>\n"
      ],
      "text/latex": [
       "\\begin{enumerate*}\n",
       "\\item 76.1805657980157\n",
       "\\item 72.3508732556344\n",
       "\\item 36.7165474795879\n",
       "\\item 59.5327000707365\n",
       "\\item 74.5567532128298\n",
       "\\item 58.0135390227681\n",
       "\\item 39.4049126110556\n",
       "\\item 50.8825566229996\n",
       "\\item 70.1825097546188\n",
       "\\item 63.8564367466014\n",
       "\\item 58.1059096969413\n",
       "\\item 46.9007631995349\n",
       "\\item 47.4650567223015\n",
       "\\item 45.4882064792292\n",
       "\\item 54.0447238763043\n",
       "\\item 55.4436327148436\n",
       "\\item 51.8960719103384\n",
       "\\item 54.9793274352319\n",
       "\\item 49.9531085126789\n",
       "\\item 39.9909719115597\n",
       "\\item 62.1946770536738\n",
       "\\item 70.9128486688451\n",
       "\\item 69.9834315453898\n",
       "\\item 60.2115677253374\n",
       "\\item 63.4029323968129\n",
       "\\item 48.895588266972\n",
       "\\item 61.9660132450522\n",
       "\\item 53.30564764219\n",
       "\\item 75.4046057160427\n",
       "\\item 72.0924453038791\n",
       "\\end{enumerate*}\n"
      ],
      "text/markdown": [
       "1. 76.1805657980157\n",
       "2. 72.3508732556344\n",
       "3. 36.7165474795879\n",
       "4. 59.5327000707365\n",
       "5. 74.5567532128298\n",
       "6. 58.0135390227681\n",
       "7. 39.4049126110556\n",
       "8. 50.8825566229996\n",
       "9. 70.1825097546188\n",
       "10. 63.8564367466014\n",
       "11. 58.1059096969413\n",
       "12. 46.9007631995349\n",
       "13. 47.4650567223015\n",
       "14. 45.4882064792292\n",
       "15. 54.0447238763043\n",
       "16. 55.4436327148436\n",
       "17. 51.8960719103384\n",
       "18. 54.9793274352319\n",
       "19. 49.9531085126789\n",
       "20. 39.9909719115597\n",
       "21. 62.1946770536738\n",
       "22. 70.9128486688451\n",
       "23. 69.9834315453898\n",
       "24. 60.2115677253374\n",
       "25. 63.4029323968129\n",
       "26. 48.895588266972\n",
       "27. 61.9660132450522\n",
       "28. 53.30564764219\n",
       "29. 75.4046057160427\n",
       "30. 72.0924453038791\n",
       "\n",
       "\n"
      ],
      "text/plain": [
       " [1] 76.18057 72.35087 36.71655 59.53270 74.55675 58.01354 39.40491 50.88256\n",
       " [9] 70.18251 63.85644 58.10591 46.90076 47.46506 45.48821 54.04472 55.44363\n",
       "[17] 51.89607 54.97933 49.95311 39.99097 62.19468 70.91285 69.98343 60.21157\n",
       "[25] 63.40293 48.89559 61.96601 53.30565 75.40461 72.09245"
      ]
     },
     "metadata": {},
     "output_type": "display_data"
    }
   ],
   "source": [
    "Weight[Species==\"Deer\"]"
   ]
  },
  {
   "cell_type": "code",
   "execution_count": 44,
   "id": "0e1c94c2-f61e-43c8-8066-db6a80b77ae0",
   "metadata": {},
   "outputs": [
    {
     "data": {
      "text/html": [
       "<style>\n",
       ".list-inline {list-style: none; margin:0; padding: 0}\n",
       ".list-inline>li {display: inline-block}\n",
       ".list-inline>li:not(:last-child)::after {content: \"\\00b7\"; padding: 0 .5ex}\n",
       "</style>\n",
       "<ol class=list-inline><li>85.4230593990575</li><li>90.1494553898598</li><li>68.9899711498795</li><li>82.1487819492408</li><li>79.3328143884608</li><li>74.8702438512322</li><li>75.6502000346813</li><li>87.7201051105403</li><li>63.6243603990658</li><li>83.3490472703476</li><li>88.5680272397766</li><li>71.0715058027923</li><li>71.7940128083323</li><li>86.7554472481835</li><li>75.4670793999357</li><li>79.5515871395249</li><li>86.0337624786133</li><li>80.2671362681021</li><li>80.7811593122626</li><li>74.9139781064378</li><li>96.0199937553253</li><li>79.0335019400508</li><li>100.08833652796</li><li>94.0120305498762</li><li>79.4323375747842</li><li>86.7943839695596</li><li>80.4820601167872</li><li>69.5264394541985</li><li>93.4203461558276</li><li>92.3395073198017</li></ol>\n"
      ],
      "text/latex": [
       "\\begin{enumerate*}\n",
       "\\item 85.4230593990575\n",
       "\\item 90.1494553898598\n",
       "\\item 68.9899711498795\n",
       "\\item 82.1487819492408\n",
       "\\item 79.3328143884608\n",
       "\\item 74.8702438512322\n",
       "\\item 75.6502000346813\n",
       "\\item 87.7201051105403\n",
       "\\item 63.6243603990658\n",
       "\\item 83.3490472703476\n",
       "\\item 88.5680272397766\n",
       "\\item 71.0715058027923\n",
       "\\item 71.7940128083323\n",
       "\\item 86.7554472481835\n",
       "\\item 75.4670793999357\n",
       "\\item 79.5515871395249\n",
       "\\item 86.0337624786133\n",
       "\\item 80.2671362681021\n",
       "\\item 80.7811593122626\n",
       "\\item 74.9139781064378\n",
       "\\item 96.0199937553253\n",
       "\\item 79.0335019400508\n",
       "\\item 100.08833652796\n",
       "\\item 94.0120305498762\n",
       "\\item 79.4323375747842\n",
       "\\item 86.7943839695596\n",
       "\\item 80.4820601167872\n",
       "\\item 69.5264394541985\n",
       "\\item 93.4203461558276\n",
       "\\item 92.3395073198017\n",
       "\\end{enumerate*}\n"
      ],
      "text/markdown": [
       "1. 85.4230593990575\n",
       "2. 90.1494553898598\n",
       "3. 68.9899711498795\n",
       "4. 82.1487819492408\n",
       "5. 79.3328143884608\n",
       "6. 74.8702438512322\n",
       "7. 75.6502000346813\n",
       "8. 87.7201051105403\n",
       "9. 63.6243603990658\n",
       "10. 83.3490472703476\n",
       "11. 88.5680272397766\n",
       "12. 71.0715058027923\n",
       "13. 71.7940128083323\n",
       "14. 86.7554472481835\n",
       "15. 75.4670793999357\n",
       "16. 79.5515871395249\n",
       "17. 86.0337624786133\n",
       "18. 80.2671362681021\n",
       "19. 80.7811593122626\n",
       "20. 74.9139781064378\n",
       "21. 96.0199937553253\n",
       "22. 79.0335019400508\n",
       "23. 100.08833652796\n",
       "24. 94.0120305498762\n",
       "25. 79.4323375747842\n",
       "26. 86.7943839695596\n",
       "27. 80.4820601167872\n",
       "28. 69.5264394541985\n",
       "29. 93.4203461558276\n",
       "30. 92.3395073198017\n",
       "\n",
       "\n"
      ],
      "text/plain": [
       " [1]  85.42306  90.14946  68.98997  82.14878  79.33281  74.87024  75.65020\n",
       " [8]  87.72011  63.62436  83.34905  88.56803  71.07151  71.79401  86.75545\n",
       "[15]  75.46708  79.55159  86.03376  80.26714  80.78116  74.91398  96.01999\n",
       "[22]  79.03350 100.08834  94.01203  79.43234  86.79438  80.48206  69.52644\n",
       "[29]  93.42035  92.33951"
      ]
     },
     "metadata": {},
     "output_type": "display_data"
    }
   ],
   "source": [
    "Weight[Species==\"Reindeer\"]"
   ]
  },
  {
   "cell_type": "markdown",
   "id": "57b547cd-5282-4214-a1a2-297ad830097f",
   "metadata": {},
   "source": [
    "...so that we can compare the average weight"
   ]
  },
  {
   "cell_type": "code",
   "execution_count": 45,
   "id": "9990886d-6ac5-4e29-85de-747d0ad4c3c1",
   "metadata": {},
   "outputs": [
    {
     "data": {
      "text/html": [
       "58.1438308199335"
      ],
      "text/latex": [
       "58.1438308199335"
      ],
      "text/markdown": [
       "58.1438308199335"
      ],
      "text/plain": [
       "[1] 58.14383"
      ]
     },
     "metadata": {},
     "output_type": "display_data"
    }
   ],
   "source": [
    "mean(Weight[Species==\"Deer\"])"
   ]
  },
  {
   "cell_type": "code",
   "execution_count": 46,
   "id": "6689c4fe-896a-4e30-b11c-6956925256bf",
   "metadata": {},
   "outputs": [
    {
     "data": {
      "text/html": [
       "81.9203557370166"
      ],
      "text/latex": [
       "81.9203557370166"
      ],
      "text/markdown": [
       "81.9203557370166"
      ],
      "text/plain": [
       "[1] 81.92036"
      ]
     },
     "metadata": {},
     "output_type": "display_data"
    }
   ],
   "source": [
    "mean(Weight[Species==\"Reindeer\"])"
   ]
  },
  {
   "cell_type": "markdown",
   "id": "9f166575-3af4-4bff-9631-9916303268b5",
   "metadata": {},
   "source": [
    "Indexing is incredibly useful. You need to know it. But it is awkward for data frames. We can make a table instead using some basic data manipulation functions. This new table is a new data frame"
   ]
  },
  {
   "cell_type": "code",
   "execution_count": 47,
   "id": "5cf24b76-ad38-4558-b685-1f0abb95f064",
   "metadata": {},
   "outputs": [],
   "source": [
    "meanTable <- DeerStudy %>%\n",
    "    group_by(Species) %>%\n",
    "    summarize(MeanWeight = mean(Weight))"
   ]
  },
  {
   "cell_type": "code",
   "execution_count": 48,
   "id": "91510085-e3e0-4206-8b29-6ebe57db237f",
   "metadata": {},
   "outputs": [
    {
     "data": {
      "text/html": [
       "<table class=\"dataframe\">\n",
       "<caption>A tibble: 2 × 2</caption>\n",
       "<thead>\n",
       "\t<tr><th scope=col>Species</th><th scope=col>MeanWeight</th></tr>\n",
       "\t<tr><th scope=col>&lt;chr&gt;</th><th scope=col>&lt;dbl&gt;</th></tr>\n",
       "</thead>\n",
       "<tbody>\n",
       "\t<tr><td>Deer    </td><td>58.14383</td></tr>\n",
       "\t<tr><td>Reindeer</td><td>81.92036</td></tr>\n",
       "</tbody>\n",
       "</table>\n"
      ],
      "text/latex": [
       "A tibble: 2 × 2\n",
       "\\begin{tabular}{ll}\n",
       " Species & MeanWeight\\\\\n",
       " <chr> & <dbl>\\\\\n",
       "\\hline\n",
       "\t Deer     & 58.14383\\\\\n",
       "\t Reindeer & 81.92036\\\\\n",
       "\\end{tabular}\n"
      ],
      "text/markdown": [
       "\n",
       "A tibble: 2 × 2\n",
       "\n",
       "| Species &lt;chr&gt; | MeanWeight &lt;dbl&gt; |\n",
       "|---|---|\n",
       "| Deer     | 58.14383 |\n",
       "| Reindeer | 81.92036 |\n",
       "\n"
      ],
      "text/plain": [
       "  Species  MeanWeight\n",
       "1 Deer     58.14383  \n",
       "2 Reindeer 81.92036  "
      ]
     },
     "metadata": {},
     "output_type": "display_data"
    }
   ],
   "source": [
    "meanTable"
   ]
  },
  {
   "cell_type": "markdown",
   "id": "f31aed63-90b9-497f-8baf-e034626dff8c",
   "metadata": {},
   "source": [
    "This is the exact same logic as with the plotting. First you define the data you are working on, then you sequentially operate on it. This is called \"piping\"."
   ]
  },
  {
   "cell_type": "markdown",
   "id": "cd8557f1-fb50-4db7-a6cc-834c89d809dd",
   "metadata": {},
   "source": [
    "The mean is only one statistic. We can also look at other statistics. How about the median?"
   ]
  },
  {
   "cell_type": "code",
   "execution_count": 49,
   "id": "7184cb98-8833-4e9b-945d-73c6276a1e16",
   "metadata": {},
   "outputs": [],
   "source": [
    "medianTable <- DeerStudy %>%\n",
    "    group_by(Species) %>%\n",
    "    summarize(MedianWeight = median(Weight))"
   ]
  },
  {
   "cell_type": "code",
   "execution_count": 50,
   "id": "edbc44e9-6df0-4ebe-8e99-f7afa84b17ea",
   "metadata": {},
   "outputs": [
    {
     "data": {
      "text/html": [
       "<table class=\"dataframe\">\n",
       "<caption>A tibble: 2 × 2</caption>\n",
       "<thead>\n",
       "\t<tr><th scope=col>Species</th><th scope=col>MedianWeight</th></tr>\n",
       "\t<tr><th scope=col>&lt;chr&gt;</th><th scope=col>&lt;dbl&gt;</th></tr>\n",
       "</thead>\n",
       "<tbody>\n",
       "\t<tr><td>Deer    </td><td>58.05972</td></tr>\n",
       "\t<tr><td>Reindeer</td><td>80.63161</td></tr>\n",
       "</tbody>\n",
       "</table>\n"
      ],
      "text/latex": [
       "A tibble: 2 × 2\n",
       "\\begin{tabular}{ll}\n",
       " Species & MedianWeight\\\\\n",
       " <chr> & <dbl>\\\\\n",
       "\\hline\n",
       "\t Deer     & 58.05972\\\\\n",
       "\t Reindeer & 80.63161\\\\\n",
       "\\end{tabular}\n"
      ],
      "text/markdown": [
       "\n",
       "A tibble: 2 × 2\n",
       "\n",
       "| Species &lt;chr&gt; | MedianWeight &lt;dbl&gt; |\n",
       "|---|---|\n",
       "| Deer     | 58.05972 |\n",
       "| Reindeer | 80.63161 |\n",
       "\n"
      ],
      "text/plain": [
       "  Species  MedianWeight\n",
       "1 Deer     58.05972    \n",
       "2 Reindeer 80.63161    "
      ]
     },
     "metadata": {},
     "output_type": "display_data"
    }
   ],
   "source": [
    "medianTable"
   ]
  },
  {
   "cell_type": "markdown",
   "id": "d83c236f-8520-4227-aa14-459142bd1c0a",
   "metadata": {},
   "source": [
    "We can also look at the standard deviation."
   ]
  },
  {
   "cell_type": "code",
   "execution_count": 51,
   "id": "a56f9cc9-7436-4384-8568-5d171d4b3efb",
   "metadata": {},
   "outputs": [],
   "source": [
    "sdTable <- DeerStudy %>%\n",
    "    group_by(Species) %>%\n",
    "    summarize(SdWeight = sd(Weight))"
   ]
  },
  {
   "cell_type": "code",
   "execution_count": 52,
   "id": "36645a7d-b6fc-41e8-bacc-3e748ab937e0",
   "metadata": {},
   "outputs": [
    {
     "data": {
      "text/html": [
       "<table class=\"dataframe\">\n",
       "<caption>A tibble: 2 × 2</caption>\n",
       "<thead>\n",
       "\t<tr><th scope=col>Species</th><th scope=col>SdWeight</th></tr>\n",
       "\t<tr><th scope=col>&lt;chr&gt;</th><th scope=col>&lt;dbl&gt;</th></tr>\n",
       "</thead>\n",
       "<tbody>\n",
       "\t<tr><td>Deer    </td><td>11.260301</td></tr>\n",
       "\t<tr><td>Reindeer</td><td> 8.765778</td></tr>\n",
       "</tbody>\n",
       "</table>\n"
      ],
      "text/latex": [
       "A tibble: 2 × 2\n",
       "\\begin{tabular}{ll}\n",
       " Species & SdWeight\\\\\n",
       " <chr> & <dbl>\\\\\n",
       "\\hline\n",
       "\t Deer     & 11.260301\\\\\n",
       "\t Reindeer &  8.765778\\\\\n",
       "\\end{tabular}\n"
      ],
      "text/markdown": [
       "\n",
       "A tibble: 2 × 2\n",
       "\n",
       "| Species &lt;chr&gt; | SdWeight &lt;dbl&gt; |\n",
       "|---|---|\n",
       "| Deer     | 11.260301 |\n",
       "| Reindeer |  8.765778 |\n",
       "\n"
      ],
      "text/plain": [
       "  Species  SdWeight \n",
       "1 Deer     11.260301\n",
       "2 Reindeer  8.765778"
      ]
     },
     "metadata": {},
     "output_type": "display_data"
    }
   ],
   "source": [
    "sdTable"
   ]
  },
  {
   "cell_type": "markdown",
   "id": "7d9851c2-683b-4162-8228-8ca6df4e8645",
   "metadata": {},
   "source": [
    "Now we are almost ready to do some statistics. We will cover statistical concepts in the next lecture. BUt as a teaser, let's look at a quick comparison, and see if these means are really different."
   ]
  },
  {
   "cell_type": "code",
   "execution_count": 53,
   "id": "34100bd1-d979-4fd9-a31b-c552ab8cd97c",
   "metadata": {},
   "outputs": [
    {
     "data": {
      "text/plain": [
       "\n",
       "\tWelch Two Sample t-test\n",
       "\n",
       "data:  weight1 and weight2\n",
       "t = -9.1261, df = 54.708, p-value = 1.395e-12\n",
       "alternative hypothesis: true difference in means is not equal to 0\n",
       "95 percent confidence interval:\n",
       " -28.99836 -18.55469\n",
       "sample estimates:\n",
       "mean of x mean of y \n",
       " 58.14383  81.92036 \n"
      ]
     },
     "metadata": {},
     "output_type": "display_data"
    }
   ],
   "source": [
    "t.test(weight1,weight2)"
   ]
  },
  {
   "cell_type": "markdown",
   "id": "504a0793-73b2-481f-95ec-1f32b062a737",
   "metadata": {},
   "source": [
    "You have learned about indexing. You have learned about basic statistical functions. You have learned how to generate summary tables. You have run your first statistical simulation, and your first hypothesis test."
   ]
  },
  {
   "cell_type": "code",
   "execution_count": 75,
   "id": "f050e8f3-8b11-46ea-acf6-e0df2199150f",
   "metadata": {},
   "outputs": [],
   "source": [
    "early_class <- c(5,6,8,7,7,8,8,4,5,5)\n"
   ]
  },
  {
   "cell_type": "code",
   "execution_count": 76,
   "id": "ce01ed45-73fb-42b2-8614-5bcdbc522c86",
   "metadata": {},
   "outputs": [],
   "source": [
    "late_class <- c(7,6,8,8,8,8,7.5,7,5,7)"
   ]
  },
  {
   "cell_type": "code",
   "execution_count": 59,
   "id": "d5859f4b-875f-43dd-a175-ebd6a4e2c971",
   "metadata": {},
   "outputs": [
    {
     "data": {
      "text/html": [
       "10"
      ],
      "text/latex": [
       "10"
      ],
      "text/markdown": [
       "10"
      ],
      "text/plain": [
       "[1] 10"
      ]
     },
     "metadata": {},
     "output_type": "display_data"
    }
   ],
   "source": [
    "length(early_class)"
   ]
  },
  {
   "cell_type": "code",
   "execution_count": 60,
   "id": "97c9a4ea-e74d-4940-b41b-d361e3dd9a36",
   "metadata": {},
   "outputs": [
    {
     "data": {
      "text/html": [
       "10"
      ],
      "text/latex": [
       "10"
      ],
      "text/markdown": [
       "10"
      ],
      "text/plain": [
       "[1] 10"
      ]
     },
     "metadata": {},
     "output_type": "display_data"
    }
   ],
   "source": [
    "length(late_class)"
   ]
  },
  {
   "cell_type": "code",
   "execution_count": 72,
   "id": "378b9871-c473-4a1c-9747-2e4bbcb137d7",
   "metadata": {},
   "outputs": [],
   "source": [
    "early <- rep(\"early\", 10)\n",
    "late <- rep(\"late\", 10)"
   ]
  },
  {
   "cell_type": "code",
   "execution_count": 73,
   "id": "2fc90c7e-ad6d-451d-8826-77c52f9699d8",
   "metadata": {},
   "outputs": [],
   "source": [
    "hour <- c(early_class, late_class)\n",
    "class <- c(early, late)"
   ]
  },
  {
   "cell_type": "code",
   "execution_count": 77,
   "id": "a2a21bed-4e00-4b88-8592-3fa0e9661c29",
   "metadata": {},
   "outputs": [
    {
     "data": {
      "text/html": [
       "<table class=\"dataframe\">\n",
       "<caption>A data.frame: 20 × 2</caption>\n",
       "<thead>\n",
       "\t<tr><th scope=col>hour</th><th scope=col>class</th></tr>\n",
       "\t<tr><th scope=col>&lt;dbl&gt;</th><th scope=col>&lt;chr&gt;</th></tr>\n",
       "</thead>\n",
       "<tbody>\n",
       "\t<tr><td>5.0</td><td>early</td></tr>\n",
       "\t<tr><td>6.0</td><td>early</td></tr>\n",
       "\t<tr><td>8.0</td><td>early</td></tr>\n",
       "\t<tr><td>7.0</td><td>early</td></tr>\n",
       "\t<tr><td>7.0</td><td>early</td></tr>\n",
       "\t<tr><td>8.0</td><td>early</td></tr>\n",
       "\t<tr><td>8.0</td><td>early</td></tr>\n",
       "\t<tr><td>4.0</td><td>early</td></tr>\n",
       "\t<tr><td>5.0</td><td>early</td></tr>\n",
       "\t<tr><td>5.0</td><td>early</td></tr>\n",
       "\t<tr><td>7.0</td><td>late </td></tr>\n",
       "\t<tr><td>6.0</td><td>late </td></tr>\n",
       "\t<tr><td>8.0</td><td>late </td></tr>\n",
       "\t<tr><td>8.0</td><td>late </td></tr>\n",
       "\t<tr><td>8.0</td><td>late </td></tr>\n",
       "\t<tr><td>8.0</td><td>late </td></tr>\n",
       "\t<tr><td>7.5</td><td>late </td></tr>\n",
       "\t<tr><td>7.0</td><td>late </td></tr>\n",
       "\t<tr><td>5.0</td><td>late </td></tr>\n",
       "\t<tr><td>7.0</td><td>late </td></tr>\n",
       "</tbody>\n",
       "</table>\n"
      ],
      "text/latex": [
       "A data.frame: 20 × 2\n",
       "\\begin{tabular}{ll}\n",
       " hour & class\\\\\n",
       " <dbl> & <chr>\\\\\n",
       "\\hline\n",
       "\t 5.0 & early\\\\\n",
       "\t 6.0 & early\\\\\n",
       "\t 8.0 & early\\\\\n",
       "\t 7.0 & early\\\\\n",
       "\t 7.0 & early\\\\\n",
       "\t 8.0 & early\\\\\n",
       "\t 8.0 & early\\\\\n",
       "\t 4.0 & early\\\\\n",
       "\t 5.0 & early\\\\\n",
       "\t 5.0 & early\\\\\n",
       "\t 7.0 & late \\\\\n",
       "\t 6.0 & late \\\\\n",
       "\t 8.0 & late \\\\\n",
       "\t 8.0 & late \\\\\n",
       "\t 8.0 & late \\\\\n",
       "\t 8.0 & late \\\\\n",
       "\t 7.5 & late \\\\\n",
       "\t 7.0 & late \\\\\n",
       "\t 5.0 & late \\\\\n",
       "\t 7.0 & late \\\\\n",
       "\\end{tabular}\n"
      ],
      "text/markdown": [
       "\n",
       "A data.frame: 20 × 2\n",
       "\n",
       "| hour &lt;dbl&gt; | class &lt;chr&gt; |\n",
       "|---|---|\n",
       "| 5.0 | early |\n",
       "| 6.0 | early |\n",
       "| 8.0 | early |\n",
       "| 7.0 | early |\n",
       "| 7.0 | early |\n",
       "| 8.0 | early |\n",
       "| 8.0 | early |\n",
       "| 4.0 | early |\n",
       "| 5.0 | early |\n",
       "| 5.0 | early |\n",
       "| 7.0 | late  |\n",
       "| 6.0 | late  |\n",
       "| 8.0 | late  |\n",
       "| 8.0 | late  |\n",
       "| 8.0 | late  |\n",
       "| 8.0 | late  |\n",
       "| 7.5 | late  |\n",
       "| 7.0 | late  |\n",
       "| 5.0 | late  |\n",
       "| 7.0 | late  |\n",
       "\n"
      ],
      "text/plain": [
       "   hour class\n",
       "1  5.0  early\n",
       "2  6.0  early\n",
       "3  8.0  early\n",
       "4  7.0  early\n",
       "5  7.0  early\n",
       "6  8.0  early\n",
       "7  8.0  early\n",
       "8  4.0  early\n",
       "9  5.0  early\n",
       "10 5.0  early\n",
       "11 7.0  late \n",
       "12 6.0  late \n",
       "13 8.0  late \n",
       "14 8.0  late \n",
       "15 8.0  late \n",
       "16 8.0  late \n",
       "17 7.5  late \n",
       "18 7.0  late \n",
       "19 5.0  late \n",
       "20 7.0  late "
      ]
     },
     "metadata": {},
     "output_type": "display_data"
    }
   ],
   "source": [
    "SleepStudy <- data.frame(hour, class)\n",
    "SleepStudy"
   ]
  },
  {
   "cell_type": "code",
   "execution_count": 78,
   "id": "e95d66bc-9de9-4e00-88d0-9139ba094e32",
   "metadata": {},
   "outputs": [
    {
     "data": {
      "image/png": "[encoded data removed]",
      "text/plain": [
       "plot without title"
      ]
     },
     "metadata": {
      "image/png": {
       "height": 420,
       "width": 420
      }
     },
     "output_type": "display_data"
    }
   ],
   "source": [
    "#make boxplot\n",
    "boxplot(hour~class)\n"
   ]
  },
  {
   "cell_type": "code",
   "execution_count": 87,
   "id": "635d681f-d286-453e-9ff5-683e39315d06",
   "metadata": {},
   "outputs": [
    {
     "data": {
      "image/png": "[encoded data removed]",
      "text/plain": [
       "plot without title"
      ]
     },
     "metadata": {
      "image/png": {
       "height": 420,
       "width": 420
      }
     },
     "output_type": "display_data"
    }
   ],
   "source": [
    "#det samme men med ggplot\n",
    "ggplot(SleepStudy,\n",
    "       aes( x=class,\n",
    "           y=hour,\n",
    "           fill = class)) +\n",
    "    geom_boxplot()"
   ]
  },
  {
   "cell_type": "code",
   "execution_count": 85,
   "id": "4246f0e8-f5f4-4841-985c-9fb3a70beb09",
   "metadata": {},
   "outputs": [
    {
     "data": {
      "text/html": [
       "<table class=\"dataframe\">\n",
       "<caption>A tibble: 2 × 4</caption>\n",
       "<thead>\n",
       "\t<tr><th scope=col>class</th><th scope=col>sd_hours</th><th scope=col>median_hours</th><th scope=col>mean_hours</th></tr>\n",
       "\t<tr><th scope=col>&lt;chr&gt;</th><th scope=col>&lt;dbl&gt;</th><th scope=col>&lt;dbl&gt;</th><th scope=col>&lt;dbl&gt;</th></tr>\n",
       "</thead>\n",
       "<tbody>\n",
       "\t<tr><td>early</td><td>1.494434</td><td>6.50</td><td>6.30</td></tr>\n",
       "\t<tr><td>late </td><td>1.001388</td><td>7.25</td><td>7.15</td></tr>\n",
       "</tbody>\n",
       "</table>\n"
      ],
      "text/latex": [
       "A tibble: 2 × 4\n",
       "\\begin{tabular}{llll}\n",
       " class & sd\\_hours & median\\_hours & mean\\_hours\\\\\n",
       " <chr> & <dbl> & <dbl> & <dbl>\\\\\n",
       "\\hline\n",
       "\t early & 1.494434 & 6.50 & 6.30\\\\\n",
       "\t late  & 1.001388 & 7.25 & 7.15\\\\\n",
       "\\end{tabular}\n"
      ],
      "text/markdown": [
       "\n",
       "A tibble: 2 × 4\n",
       "\n",
       "| class &lt;chr&gt; | sd_hours &lt;dbl&gt; | median_hours &lt;dbl&gt; | mean_hours &lt;dbl&gt; |\n",
       "|---|---|---|---|\n",
       "| early | 1.494434 | 6.50 | 6.30 |\n",
       "| late  | 1.001388 | 7.25 | 7.15 |\n",
       "\n"
      ],
      "text/plain": [
       "  class sd_hours median_hours mean_hours\n",
       "1 early 1.494434 6.50         6.30      \n",
       "2 late  1.001388 7.25         7.15      "
      ]
     },
     "metadata": {},
     "output_type": "display_data"
    }
   ],
   "source": [
    "# create summary table with mean, median sd\n",
    "table_sleep <- SleepStudy %>%\n",
    "    group_by(class) %>%\n",
    "    summarize(sd_hours = sd(hour),\n",
    "              median_hours = median(hour),\n",
    "              mean_hours = mean(hour))\n",
    "table_sleep"
   ]
  },
  {
   "cell_type": "code",
   "execution_count": 89,
   "id": "4d3e3917-7a89-44e5-b08f-930b347b8465",
   "metadata": {},
   "outputs": [
    {
     "data": {
      "text/plain": [
       "\n",
       "\tWelch Two Sample t-test\n",
       "\n",
       "data:  early_class and late_class\n",
       "t = -1.4942, df = 15.726, p-value = 0.1549\n",
       "alternative hypothesis: true difference in means is not equal to 0\n",
       "95 percent confidence interval:\n",
       " -2.0576563  0.3576563\n",
       "sample estimates:\n",
       "mean of x mean of y \n",
       "     6.30      7.15 \n"
      ]
     },
     "metadata": {},
     "output_type": "display_data"
    }
   ],
   "source": [
    "t.test(early_class, late_class)"
   ]
  },
  {
   "cell_type": "code",
   "execution_count": null,
   "id": "1bb43d1a-f7dc-4641-9fd5-9462cd808452",
   "metadata": {},
   "outputs": [],
   "source": [
    "#generate 2 variables with normal distribution\n",
    "#var1 50 items, mean=30, sd=10\n",
    "#var2 50 items, mean=50, sd=5\n",
    "# make a scatterplot"
   ]
  },
  {
   "cell_type": "code",
   "execution_count": 93,
   "id": "30ddab2d-9b67-4e88-b1ce-f89562cb18dd",
   "metadata": {},
   "outputs": [
    {
     "data": {
      "image/png": "[encoded data removed]",
      "text/plain": [
       "plot without title"
      ]
     },
     "metadata": {
      "image/png": {
       "height": 420,
       "width": 420
      }
     },
     "output_type": "display_data"
    }
   ],
   "source": [
    "var1 <- rnorm(50, 30, 10)\n",
    "var2 <- rnorm(50, 50, 5)\n",
    "plot(var1,var2)"
   ]
  },
  {
   "cell_type": "code",
   "execution_count": 92,
   "id": "dfef07e7-2f8e-4220-978f-78a2cb9c7fed",
   "metadata": {},
   "outputs": [
    {
     "ename": "ERROR",
     "evalue": "\u001b[1m\u001b[33mError\u001b[39m in `ggplot()`:\u001b[22m\n\u001b[1m\u001b[22m\u001b[33m!\u001b[39m `mapping` must be created with `aes()`.\n\u001b[31m✖\u001b[39m You've supplied a double vector.\n",
     "output_type": "error",
     "traceback": [
      "\u001b[1m\u001b[33mError\u001b[39m in `ggplot()`:\u001b[22m\n\u001b[1m\u001b[22m\u001b[33m!\u001b[39m `mapping` must be created with `aes()`.\n\u001b[31m✖\u001b[39m You've supplied a double vector.\nTraceback:\n",
      "1. ggplot(var1, var2)",
      "2. ggplot.default(var1, var2)",
      "3. cli::cli_abort(c(\"{.arg mapping} must be created with {.fn aes}.\", \n .     x = \"You've supplied {.obj_type_friendly {mapping}}.\"))",
      "4. rlang::abort(message, ..., call = call, use_cli_format = TRUE, \n .     .frame = .frame)",
      "5. signal_abort(cnd, .file)"
     ]
    }
   ],
   "source": [
    "ggplot(var1,var2)"
   ]
  },
  {
   "cell_type": "code",
   "execution_count": null,
   "id": "89b98755-9b47-4e47-ac6f-3a31bcb3357e",
   "metadata": {},
   "outputs": [],
   "source": []
  }
 ],
 "metadata": {
  "kernelspec": {
   "display_name": "R",
   "language": "R",
   "name": "ir"
  },
  "language_info": {
   "codemirror_mode": "r",
   "file_extension": ".r",
   "mimetype": "text/x-r-source",
   "name": "R",
   "pygments_lexer": "r",
   "version": "4.4.1"
  }
 },
 "nbformat": 4,
 "nbformat_minor": 5
}
