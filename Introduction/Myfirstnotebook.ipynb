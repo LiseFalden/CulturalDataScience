{
 "cells": [
  {
   "cell_type": "markdown",
   "id": "0dd9da74-9c87-46e2-b709-f46fe78cb769",
   "metadata": {},
   "source": [
    "# This is my notebook\n",
    "\n",
    "## Section 1\n",
    "\n",
    "## Section 2\n",
    "\n",
    "### Lists \n",
    "- Item 1\n",
    "- Item 2\n",
    "- Item 3\n",
    "\n",
    "_italics_\n",
    "**bold**"
   ]
  },
  {
   "cell_type": "markdown",
   "id": "32932b2f-b89d-453d-9f9d-1675a14ab85b",
   "metadata": {},
   "source": [
    "# Variables"
   ]
  },
  {
   "cell_type": "markdown",
   "id": "8be12a17-1b35-49a2-815d-efa063eef288",
   "metadata": {},
   "source": [
    "## Regular variables (Primatives)"
   ]
  },
  {
   "cell_type": "code",
   "execution_count": 3,
   "id": "4ab6faf2-4ba5-4495-b2b0-c28b46425d98",
   "metadata": {},
   "outputs": [],
   "source": [
    "a='duck'\n",
    "b=2\n",
    "c=3.419"
   ]
  },
  {
   "cell_type": "code",
   "execution_count": 4,
   "id": "c2bff9eb-46a3-419b-a4d0-19dbe8a950bb",
   "metadata": {},
   "outputs": [
    {
     "data": {
      "text/plain": [
       "float"
      ]
     },
     "execution_count": 4,
     "metadata": {},
     "output_type": "execute_result"
    }
   ],
   "source": [
    "type(c)"
   ]
  },
  {
   "cell_type": "code",
   "execution_count": 5,
   "id": "d69eb368-9a8c-45ba-9694-c1c4f7b201ba",
   "metadata": {},
   "outputs": [
    {
     "data": {
      "text/plain": [
       "int"
      ]
     },
     "execution_count": 5,
     "metadata": {},
     "output_type": "execute_result"
    }
   ],
   "source": [
    "type(b)"
   ]
  },
  {
   "cell_type": "code",
   "execution_count": 6,
   "id": "25844b5f-f5d9-45f3-910b-3712543f7bcb",
   "metadata": {},
   "outputs": [
    {
     "data": {
      "text/plain": [
       "str"
      ]
     },
     "execution_count": 6,
     "metadata": {},
     "output_type": "execute_result"
    }
   ],
   "source": [
    "type(a)"
   ]
  },
  {
   "cell_type": "code",
   "execution_count": null,
   "id": "e6431435-63d0-4373-a04e-cd3514c0509a",
   "metadata": {},
   "outputs": [],
   "source": []
  }
 ],
 "metadata": {
  "kernelspec": {
   "display_name": "Python 3 ",
   "language": "python",
   "name": "python3"
  },
  "language_info": {
   "codemirror_mode": {
    "name": "ipython",
    "version": 3
   },
   "file_extension": ".py",
   "mimetype": "text/x-python",
   "name": "python",
   "nbconvert_exporter": "python",
   "pygments_lexer": "ipython3",
   "version": "3.10.14"
  }
 },
 "nbformat": 4,
 "nbformat_minor": 5
}
