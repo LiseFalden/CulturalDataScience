{
 "cells": [
  {
   "cell_type": "code",
   "execution_count": null,
   "id": "f8930a67-73f4-4b3d-a86e-54ee77f3bcb7",
   "metadata": {},
   "outputs": [],
   "source": [
    "rawdata = "
   ]
  }
 ],
 "metadata": {
  "kernelspec": {
   "display_name": "Python 3 ",
   "language": "python",
   "name": "python3"
  },
  "language_info": {
   "codemirror_mode": {
    "name": "ipython",
    "version": 3
   },
   "file_extension": ".py",
   "mimetype": "text/x-python",
   "name": "python",
   "nbconvert_exporter": "python",
   "pygments_lexer": "ipython3",
   "version": "3.10.14"
  }
 },
 "nbformat": 4,
 "nbformat_minor": 5
}
